{
  "nbformat": 4,
  "nbformat_minor": 0,
  "metadata": {
    "colab": {
      "provenance": []
    },
    "kernelspec": {
      "name": "python3",
      "display_name": "Python 3"
    },
    "language_info": {
      "name": "python"
    }
  },
  "cells": [
    {
      "cell_type": "markdown",
      "source": [
        "#Что умеет Питон?\n",
        "\n",
        "## Если коротко\n",
        "\n",
        "- быстро и много работать\n",
        "- но если ему чётко сказать как\n",
        "- вы говорите с ним на особом языке, который похож на английский, но с кучей условностей\n",
        "- это нужно, чтобы вас лучше понимали — но чтобы понимать самим, что происходит, нужно разобраться..."
      ],
      "metadata": {
        "id": "JJLAEQoeRjCu"
      }
    },
    {
      "cell_type": "markdown",
      "source": [
        "##А где мы сейчас?\n",
        "\n",
        "- перейдите по ссылке\n",
        "- это Google Colab — онлайн реализация [Jupyter Notebook](https://jupyter.org/)\n",
        "- здесь можно сделать текстовую ячейку с помощью [Markdown](https://www.markdownguide.org/cheat-sheet/)\n",
        "- или ячейку с кодом (они ниже)\n",
        "- в каждой ячейке код выполняется отдельно и в конце выводится результат\n",
        "- [ссылка на эту тетрадку](https://colab.research.google.com/drive/1MyLhXzSLWLA0BEMfyCGjXQiY588A2D50?usp=sharing) — её можно скопировать к себе и выполнять задания прямо в ней"
      ],
      "metadata": {
        "id": "vOQdkp3-RsFY"
      }
    },
    {
      "cell_type": "markdown",
      "source": [
        "## Перейдём к делу!\n"
      ],
      "metadata": {
        "id": "y1Qkj8VXTJ8E"
      }
    },
    {
      "cell_type": "code",
      "execution_count": 1,
      "metadata": {
        "id": "-kg8ygXsRgwx"
      },
      "outputs": [],
      "source": [
        "#Это комментарий — он начинается с решётки и ничего не делает\n",
        "#Зато комментариями можно писать пояснения"
      ]
    },
    {
      "cell_type": "markdown",
      "source": [
        "###Питон можно использовать как калькулятор\n",
        "\n",
        "Из неочевидного (и не очень-то пригодится):\n",
        "\n",
        "- \\* — умножение\n",
        "- / — деление\n",
        "- ** — возведение в степень\n",
        "- // — деление без остатка\n",
        "- % — остаток от деления\n",
        "\n",
        "Чтобы запустить ячейку нажмите на треугольник или Ctrl-Enter"
      ],
      "metadata": {
        "id": "ZNIzpRG0TeTv"
      }
    },
    {
      "cell_type": "code",
      "source": [
        "3 + 5"
      ],
      "metadata": {
        "colab": {
          "base_uri": "https://localhost:8080/"
        },
        "id": "fLG7Bd5eTZvH",
        "outputId": "0cda3cdb-9af1-4e92-c101-cd93a791eec0"
      },
      "execution_count": 1,
      "outputs": [
        {
          "output_type": "execute_result",
          "data": {
            "text/plain": [
              "8"
            ]
          },
          "metadata": {},
          "execution_count": 1
        }
      ]
    },
    {
      "cell_type": "code",
      "source": [
        "8 * 400"
      ],
      "metadata": {
        "colab": {
          "base_uri": "https://localhost:8080/"
        },
        "id": "w_H0a6jnT1LL",
        "outputId": "feb46040-df18-4a0b-f219-4a404534646a"
      },
      "execution_count": 2,
      "outputs": [
        {
          "output_type": "execute_result",
          "data": {
            "text/plain": [
              "3200"
            ]
          },
          "metadata": {},
          "execution_count": 2
        }
      ]
    },
    {
      "cell_type": "code",
      "source": [
        "(5**2)/2"
      ],
      "metadata": {
        "colab": {
          "base_uri": "https://localhost:8080/"
        },
        "id": "m0fAPGiOT3qZ",
        "outputId": "d8a6f5d8-363f-46b2-ce78-87a3abbed49b"
      },
      "execution_count": 3,
      "outputs": [
        {
          "output_type": "execute_result",
          "data": {
            "text/plain": [
              "12.5"
            ]
          },
          "metadata": {},
          "execution_count": 3
        }
      ]
    },
    {
      "cell_type": "code",
      "source": [
        "25//2"
      ],
      "metadata": {
        "colab": {
          "base_uri": "https://localhost:8080/"
        },
        "id": "KO2lrKJcUBfA",
        "outputId": "92ffb488-4985-4f45-8db1-fdf53fc15779"
      },
      "execution_count": 4,
      "outputs": [
        {
          "output_type": "execute_result",
          "data": {
            "text/plain": [
              "12"
            ]
          },
          "metadata": {},
          "execution_count": 4
        }
      ]
    },
    {
      "cell_type": "markdown",
      "source": [
        "####Задание 1.1\n",
        "\n",
        "Посчитайте с помощью Питона результат выражения $5 + 8 + 73$"
      ],
      "metadata": {
        "id": "8EY48cBHkhZb"
      }
    },
    {
      "cell_type": "code",
      "source": [
        "#Решение задания 1.1\n",
        "\n"
      ],
      "metadata": {
        "id": "pSD9XQw3lWXq"
      },
      "execution_count": 6,
      "outputs": []
    },
    {
      "cell_type": "markdown",
      "source": [
        "####Задание 2\n",
        "\n",
        "Посчитайте с помощью Питона результат выражения $\\frac{365^3}{73^2}$"
      ],
      "metadata": {
        "id": "8tOQUMH1mPq-"
      }
    },
    {
      "cell_type": "code",
      "source": [
        "#Решение задания 1.2\n",
        "\n"
      ],
      "metadata": {
        "id": "_xxipAyxmWw2"
      },
      "execution_count": 7,
      "outputs": []
    },
    {
      "cell_type": "markdown",
      "source": [
        "###Переменные\n",
        "\n",
        "Мы можем попросить Питон что-нибудь запомнить\n",
        "\n",
        "Для этого используетя знак \"=\". Название переменной слева от равно, то, что запоминаем, справа"
      ],
      "metadata": {
        "id": "bKL_feoNY0dg"
      }
    },
    {
      "cell_type": "code",
      "source": [
        "a = 5\n",
        "\n",
        "a"
      ],
      "metadata": {
        "colab": {
          "base_uri": "https://localhost:8080/"
        },
        "id": "qmakdbDwWsNx",
        "outputId": "8fcdff8c-ab25-49b1-b79a-61a2b3896872"
      },
      "execution_count": 8,
      "outputs": [
        {
          "output_type": "execute_result",
          "data": {
            "text/plain": [
              "5"
            ]
          },
          "metadata": {},
          "execution_count": 8
        }
      ]
    },
    {
      "cell_type": "code",
      "source": [
        "b = (5**2)/2\n",
        "\n",
        "b"
      ],
      "metadata": {
        "colab": {
          "base_uri": "https://localhost:8080/"
        },
        "id": "NMcNtZEIagwN",
        "outputId": "e251362c-bff4-40be-9aab-20aa88a6771e"
      },
      "execution_count": 9,
      "outputs": [
        {
          "output_type": "execute_result",
          "data": {
            "text/plain": [
              "12.5"
            ]
          },
          "metadata": {},
          "execution_count": 9
        }
      ]
    },
    {
      "cell_type": "code",
      "source": [
        "a + b"
      ],
      "metadata": {
        "colab": {
          "base_uri": "https://localhost:8080/"
        },
        "id": "oq8Gyb4ci-A0",
        "outputId": "b73d8aff-0be2-4c9d-c72b-4ccd242a032d"
      },
      "execution_count": 10,
      "outputs": [
        {
          "output_type": "execute_result",
          "data": {
            "text/plain": [
              "17.5"
            ]
          },
          "metadata": {},
          "execution_count": 10
        }
      ]
    },
    {
      "cell_type": "markdown",
      "source": [
        "Никогда не называйте переменные так, как выше! Используйте понятные название: чтобы вы или кто-то ещё, читая ваш код, не запутался на третьей строчке."
      ],
      "metadata": {
        "id": "4oIZhIKdjCgN"
      }
    },
    {
      "cell_type": "markdown",
      "source": [
        "####Задание 2\n",
        "\n",
        "Вычислите $\\frac{365^3}{73^2}$ и сразу запишите результат подсчёта выражения  в переменную. Назовите её осмысленно."
      ],
      "metadata": {
        "id": "9YfpY274md_8"
      }
    },
    {
      "cell_type": "code",
      "source": [
        "#Решение задания 2\n",
        "\n"
      ],
      "metadata": {
        "id": "yIT_jKqRjN8H"
      },
      "execution_count": 11,
      "outputs": []
    },
    {
      "cell_type": "markdown",
      "source": [
        "###Сравнение\n",
        "\n",
        "Мы используем равно, чтобы что-то записать в переменную. Но как же тогда что-нибудь сравнить?!"
      ],
      "metadata": {
        "id": "FVRViwgMms8U"
      }
    },
    {
      "cell_type": "code",
      "source": [
        " 5 = 3+2"
      ],
      "metadata": {
        "colab": {
          "base_uri": "https://localhost:8080/",
          "height": 144
        },
        "id": "BbTOcsJtjAQA",
        "outputId": "e4a92fd6-f576-429c-ba11-86ac3e7a3a5c"
      },
      "execution_count": 12,
      "outputs": [
        {
          "output_type": "error",
          "ename": "SyntaxError",
          "evalue": "cannot assign to literal here. Maybe you meant '==' instead of '='? (<ipython-input-12-dc53f2f9892c>, line 1)",
          "traceback": [
            "\u001b[0;36m  File \u001b[0;32m\"<ipython-input-12-dc53f2f9892c>\"\u001b[0;36m, line \u001b[0;32m1\u001b[0m\n\u001b[0;31m    5 = 3+2\u001b[0m\n\u001b[0m    ^\u001b[0m\n\u001b[0;31mSyntaxError\u001b[0m\u001b[0;31m:\u001b[0m cannot assign to literal here. Maybe you meant '==' instead of '='?\n"
          ]
        }
      ]
    },
    {
      "cell_type": "code",
      "source": [
        " 5 == 3+2"
      ],
      "metadata": {
        "id": "fJu4rB4Nnnm3"
      },
      "execution_count": null,
      "outputs": []
    },
    {
      "cell_type": "code",
      "source": [
        " 5 == 3+3"
      ],
      "metadata": {
        "id": "wFuvVJlfnpLe"
      },
      "execution_count": null,
      "outputs": []
    },
    {
      "cell_type": "markdown",
      "source": [
        "Для сравнения используем знаки \"==\", \">\", \"<\" и получаем как значения \"Правда\" (True) или \"Ложь\" (False).\n",
        "\n",
        "Зачем это вообще? Для того, чтобы писать условия. Конструкция выглядит так:"
      ],
      "metadata": {
        "id": "d6vH76LIn2Jo"
      }
    },
    {
      "cell_type": "code",
      "source": [
        "# Эта ячейка не отработает, потому что в ней не указано ни условие, ни результат\n",
        "if условие:\n",
        "  #результат 1\n",
        "elif условие 2:\n",
        "  #результат 2\n",
        "else:\n",
        "  #результат 3\n",
        "\n",
        "#Любой фрагмент, кроме первого if, можно опустить"
      ],
      "metadata": {
        "id": "A7FMD59HnrhG"
      },
      "execution_count": null,
      "outputs": []
    },
    {
      "cell_type": "code",
      "source": [
        "#Вот эти вот штуки print(\"Это положительное число\") — это мы забегаем вперёд\n",
        "#Если вы чувствуете, что нам нужны не только числа — то вот они не числа!\n",
        "\n",
        "x = 3\n",
        "\n",
        "if x > 0:\n",
        "  print(\"Это положительное число\")\n",
        "elif x < 0:\n",
        "  print(\"Это отрицательное число число\")\n",
        "else:\n",
        "  print(\"Это ноль\")"
      ],
      "metadata": {
        "id": "eQO0Zs-Ao_6c"
      },
      "execution_count": null,
      "outputs": []
    },
    {
      "cell_type": "markdown",
      "source": [
        "####Задание 3\n",
        "\n",
        "Напишите условие, которое проверяет, равно ли число 5, и если да — печатает 5, а если нет — говорит, что это не 5"
      ],
      "metadata": {
        "id": "YYFFHPZopWm4"
      }
    },
    {
      "cell_type": "code",
      "source": [
        "#Решение задания 3\n",
        "\n",
        "x =\n",
        "\n"
      ],
      "metadata": {
        "id": "Dpg-vcZ9pOXJ"
      },
      "execution_count": null,
      "outputs": []
    },
    {
      "cell_type": "markdown",
      "source": [
        "###Типы данных\n",
        "\n",
        "До этого мы в основном работали с числами, но хотим, конечно, работать не только с ними\n",
        "\n",
        "- строки — содержат текстовую информацию и пишутся в кавычках '' или \"\"\n",
        "- списки — содержат набор элементов Питона и пишутся в квадратных скобках через запятую [ ]\n",
        "- есть и другие типы данных, но нам пока хватит:)"
      ],
      "metadata": {
        "id": "Z24puYJjqNgn"
      }
    },
    {
      "cell_type": "code",
      "source": [
        "new_line = 'это строка'\n",
        "\n",
        "new_line"
      ],
      "metadata": {
        "colab": {
          "base_uri": "https://localhost:8080/",
          "height": 36
        },
        "id": "Atru_PoBrfw2",
        "outputId": "1de288c1-994a-44fb-b52f-cdcbf075698d"
      },
      "execution_count": 5,
      "outputs": [
        {
          "output_type": "execute_result",
          "data": {
            "text/plain": [
              "'это строка'"
            ],
            "application/vnd.google.colaboratory.intrinsic+json": {
              "type": "string"
            }
          },
          "metadata": {},
          "execution_count": 5
        }
      ]
    },
    {
      "cell_type": "code",
      "source": [
        "new_list = [4, 'я очень разнообразный', [2, 3], new_line]\n",
        "\n",
        "new_list"
      ],
      "metadata": {
        "colab": {
          "base_uri": "https://localhost:8080/"
        },
        "id": "SX0To4Gfrmxn",
        "outputId": "1da4c786-8dd6-4695-9fb9-1f1cdd492654"
      },
      "execution_count": 6,
      "outputs": [
        {
          "output_type": "execute_result",
          "data": {
            "text/plain": [
              "[4, 'я очень разнообразный', [2, 3], 'это строка']"
            ]
          },
          "metadata": {},
          "execution_count": 6
        }
      ]
    },
    {
      "cell_type": "markdown",
      "source": [
        "####Задание\n",
        "\n",
        "Создайте список и выведите и запишите в него два любых числа, один список и две переменные. Переменные придётся создать заранее."
      ],
      "metadata": {
        "id": "TfOytg3gsD2G"
      }
    },
    {
      "cell_type": "code",
      "source": [
        "#Ответ на задание"
      ],
      "metadata": {
        "id": "7YTn4iCvr5iI"
      },
      "execution_count": null,
      "outputs": []
    },
    {
      "cell_type": "markdown",
      "source": [
        "Со строками и списками, как и с числами, можно производить разные операции. Не всегда предсказуемо, что произойдёт — и чтобы узнать, как сделать что-то конкретное со строкой или списком, обычно приходится искать это"
      ],
      "metadata": {
        "id": "JDEba3spsX04"
      }
    },
    {
      "cell_type": "code",
      "source": [
        "two_words = \"два\" + \"слова\"\n",
        "\n",
        "two_words"
      ],
      "metadata": {
        "colab": {
          "base_uri": "https://localhost:8080/",
          "height": 36
        },
        "id": "hy2Re4azsVBD",
        "outputId": "7c031ec8-8e72-491b-b11a-faaf6d120107"
      },
      "execution_count": 7,
      "outputs": [
        {
          "output_type": "execute_result",
          "data": {
            "text/plain": [
              "'дваслова'"
            ],
            "application/vnd.google.colaboratory.intrinsic+json": {
              "type": "string"
            }
          },
          "metadata": {},
          "execution_count": 7
        }
      ]
    },
    {
      "cell_type": "code",
      "source": [
        "#Считаем длину слова\n",
        "\n",
        "len(two_words)"
      ],
      "metadata": {
        "colab": {
          "base_uri": "https://localhost:8080/"
        },
        "id": "YApKMuZRs7wo",
        "outputId": "01f8eee2-5f77-4306-d18c-577c0163abba"
      },
      "execution_count": 8,
      "outputs": [
        {
          "output_type": "execute_result",
          "data": {
            "text/plain": [
              "8"
            ]
          },
          "metadata": {},
          "execution_count": 8
        }
      ]
    },
    {
      "cell_type": "code",
      "source": [
        "#Считаем длину списка\n",
        "\n",
        "len(new_list)"
      ],
      "metadata": {
        "colab": {
          "base_uri": "https://localhost:8080/"
        },
        "id": "0lLvC4oTtdUy",
        "outputId": "b4aa39e8-8990-40aa-818e-ab9fee8fc497"
      },
      "execution_count": 9,
      "outputs": [
        {
          "output_type": "execute_result",
          "data": {
            "text/plain": [
              "4"
            ]
          },
          "metadata": {},
          "execution_count": 9
        }
      ]
    },
    {
      "cell_type": "code",
      "source": [
        "#Делаем, чтобы слово писалось с заглавной буквы\n",
        "\n",
        "two_words.capitalize()"
      ],
      "metadata": {
        "colab": {
          "base_uri": "https://localhost:8080/",
          "height": 36
        },
        "id": "mhdIv6adtOPT",
        "outputId": "412c18be-6833-4c68-a023-1c7907c391da"
      },
      "execution_count": 10,
      "outputs": [
        {
          "output_type": "execute_result",
          "data": {
            "text/plain": [
              "'Дваслова'"
            ],
            "application/vnd.google.colaboratory.intrinsic+json": {
              "type": "string"
            }
          },
          "metadata": {},
          "execution_count": 10
        }
      ]
    },
    {
      "cell_type": "code",
      "source": [
        "#Проверяем, на что кончается слово\n",
        "\n",
        "two_words.endswith('ы')"
      ],
      "metadata": {
        "colab": {
          "base_uri": "https://localhost:8080/"
        },
        "id": "afjeP8zptuvR",
        "outputId": "40fc4ac9-f4b1-4c83-e556-d3a69b2a7888"
      },
      "execution_count": 11,
      "outputs": [
        {
          "output_type": "execute_result",
          "data": {
            "text/plain": [
              "False"
            ]
          },
          "metadata": {},
          "execution_count": 11
        }
      ]
    },
    {
      "cell_type": "markdown",
      "source": [
        "####Задание 4\n",
        "\n",
        "Запишите условие, которое проверяет, кончается ли слово на букву \"а\" и если кончается — дописывает к нему ещё 5 букв \"а\", а если нет — просто возвращает слово[Текст ссылки](https://)"
      ],
      "metadata": {
        "id": "bcJebMcDsxa4"
      }
    },
    {
      "cell_type": "code",
      "source": [
        "#Решение задания 4\n",
        "\n",
        "word = 'Питон'\n",
        "\n",
        "if ...:\n",
        "\n",
        "else ...:\n"
      ],
      "metadata": {
        "id": "QljaEp7muDO7"
      },
      "execution_count": null,
      "outputs": []
    },
    {
      "cell_type": "markdown",
      "source": [
        "###Функции\n",
        "\n",
        "Мы уже использовали функции — особые выражения, которое пишутся со скобками: print() и выполняют какое-то действие с тем, что внутри скобок\n",
        "\n",
        "То, что мы писали через точку после строк — .capitalize() — тоже функции, но с немного особым синтаксисом.\n",
        "\n",
        "В скобках у функции может быть несколько аргументов — и важно понимать, как именно она будет с ними обращаться."
      ],
      "metadata": {
        "id": "XyZPhw9gudGB"
      }
    },
    {
      "cell_type": "code",
      "source": [
        "#Два аргумента функции\n",
        "print('Hello', 'World!')"
      ],
      "metadata": {
        "colab": {
          "base_uri": "https://localhost:8080/"
        },
        "id": "MVantWBrBnJx",
        "outputId": "ceca878a-108c-4a19-bd09-93b78f3c7943"
      },
      "execution_count": 12,
      "outputs": [
        {
          "output_type": "stream",
          "name": "stdout",
          "text": [
            "Hello World!\n"
          ]
        }
      ]
    },
    {
      "cell_type": "code",
      "source": [
        "print('Hello', 'World!', sep=', ')"
      ],
      "metadata": {
        "colab": {
          "base_uri": "https://localhost:8080/"
        },
        "id": "5AxK_GpUB2sO",
        "outputId": "a7ff034e-60d6-4c52-bde7-6a62575950fc"
      },
      "execution_count": 13,
      "outputs": [
        {
          "output_type": "stream",
          "name": "stdout",
          "text": [
            "Hello, World!\n"
          ]
        }
      ]
    },
    {
      "cell_type": "code",
      "source": [
        "'это предложение, у которого на конце что-то лишнее \\n'.strip()"
      ],
      "metadata": {
        "colab": {
          "base_uri": "https://localhost:8080/",
          "height": 36
        },
        "id": "eqxYacDTB6Ob",
        "outputId": "f55676bf-eb0e-4be6-ba7c-8cbc3cd202ee"
      },
      "execution_count": 14,
      "outputs": [
        {
          "output_type": "execute_result",
          "data": {
            "text/plain": [
              "'это предложение, у которого на конце что-то лишнее'"
            ],
            "application/vnd.google.colaboratory.intrinsic+json": {
              "type": "string"
            }
          },
          "metadata": {},
          "execution_count": 14
        }
      ]
    },
    {
      "cell_type": "code",
      "source": [
        "'это предложение, у которого на конце что-то лишнее \\n'.strip('\\n')"
      ],
      "metadata": {
        "colab": {
          "base_uri": "https://localhost:8080/",
          "height": 36
        },
        "id": "l5PlSD97Gb28",
        "outputId": "629d4110-1021-4a07-f843-72b8172b779c"
      },
      "execution_count": 15,
      "outputs": [
        {
          "output_type": "execute_result",
          "data": {
            "text/plain": [
              "'это предложение, у которого на конце что-то лишнее '"
            ],
            "application/vnd.google.colaboratory.intrinsic+json": {
              "type": "string"
            }
          },
          "metadata": {},
          "execution_count": 15
        }
      ]
    },
    {
      "cell_type": "markdown",
      "source": [
        "Огромное количество функций написано за нас!\n",
        "\n",
        "Эти функции вместе с другими полезными вещами складывают в библиотеки или модули — и их можно брать и использовать!"
      ],
      "metadata": {
        "id": "HzjSqXBGGvQE"
      }
    },
    {
      "cell_type": "code",
      "source": [
        "import math #Просим загрузить нам модуль"
      ],
      "metadata": {
        "id": "2DDXKffYG-SP"
      },
      "execution_count": 16,
      "outputs": []
    },
    {
      "cell_type": "code",
      "source": [
        "#Извлекаем квадратный корень функцией из этого модуля\n",
        "math.sqrt(25)"
      ],
      "metadata": {
        "colab": {
          "base_uri": "https://localhost:8080/"
        },
        "id": "ZHlBPaHwHH5k",
        "outputId": "cfb88d8e-5caa-4308-f7e0-853647f836d2"
      },
      "execution_count": 17,
      "outputs": [
        {
          "output_type": "execute_result",
          "data": {
            "text/plain": [
              "5.0"
            ]
          },
          "metadata": {},
          "execution_count": 17
        }
      ]
    },
    {
      "cell_type": "code",
      "source": [
        "!pip install nltk #Скачиваем модуль\n",
        "import nltk #Просим загрузить нам модуль\n",
        "nltk.download('punkt') #Скачиваем ещё кусочек модуля"
      ],
      "metadata": {
        "colab": {
          "base_uri": "https://localhost:8080/"
        },
        "id": "F-aYwdyrHTn9",
        "outputId": "a6c760b0-6168-466b-c4f6-5134546b7086"
      },
      "execution_count": 18,
      "outputs": [
        {
          "output_type": "stream",
          "name": "stdout",
          "text": [
            "Requirement already satisfied: nltk in /usr/local/lib/python3.10/dist-packages (3.8.1)\n",
            "Requirement already satisfied: click in /usr/local/lib/python3.10/dist-packages (from nltk) (8.1.7)\n",
            "Requirement already satisfied: joblib in /usr/local/lib/python3.10/dist-packages (from nltk) (1.3.2)\n",
            "Requirement already satisfied: regex>=2021.8.3 in /usr/local/lib/python3.10/dist-packages (from nltk) (2023.12.25)\n",
            "Requirement already satisfied: tqdm in /usr/local/lib/python3.10/dist-packages (from nltk) (4.66.1)\n"
          ]
        },
        {
          "output_type": "stream",
          "name": "stderr",
          "text": [
            "[nltk_data] Downloading package punkt to /root/nltk_data...\n",
            "[nltk_data]   Package punkt is already up-to-date!\n"
          ]
        },
        {
          "output_type": "execute_result",
          "data": {
            "text/plain": [
              "True"
            ]
          },
          "metadata": {},
          "execution_count": 18
        }
      ]
    },
    {
      "cell_type": "code",
      "source": [
        "nltk.tokenize.word_tokenize('Я хочу разделить на слова длинное предложение, которое включает в себя знаки препинания')"
      ],
      "metadata": {
        "colab": {
          "base_uri": "https://localhost:8080/"
        },
        "id": "VocXfuBEH1kW",
        "outputId": "43d32d2f-7108-450a-fb82-ca482ab291d6"
      },
      "execution_count": 19,
      "outputs": [
        {
          "output_type": "execute_result",
          "data": {
            "text/plain": [
              "['Я',\n",
              " 'хочу',\n",
              " 'разделить',\n",
              " 'на',\n",
              " 'слова',\n",
              " 'длинное',\n",
              " 'предложение',\n",
              " ',',\n",
              " 'которое',\n",
              " 'включает',\n",
              " 'в',\n",
              " 'себя',\n",
              " 'знаки',\n",
              " 'препинания']"
            ]
          },
          "metadata": {},
          "execution_count": 19
        }
      ]
    },
    {
      "cell_type": "markdown",
      "source": [
        "#### Задание 5\n",
        "\n",
        "Импортируйте модуль random. Используйте функцию randint из него, чтобы сгенерировать случайное число от одного до 10. Чтобы понять, какие аргументы у этой функции, можно почитать [документацию](https://docs.python.org/3/library/random.html) или просто загуглить random.randint."
      ],
      "metadata": {
        "id": "ndZfv9AMJFtP"
      }
    },
    {
      "cell_type": "code",
      "source": [
        "#Решение задания 5\n",
        "\n"
      ],
      "metadata": {
        "id": "bJikhS67JLaD"
      },
      "execution_count": null,
      "outputs": []
    },
    {
      "cell_type": "markdown",
      "source": [
        "###Циклы\n",
        "\n",
        "to be continued..."
      ],
      "metadata": {
        "id": "-ok6khtCGot0"
      }
    },
    {
      "cell_type": "code",
      "source": [],
      "metadata": {
        "id": "dHYfvUHJGkL_"
      },
      "execution_count": null,
      "outputs": []
    }
  ]
}