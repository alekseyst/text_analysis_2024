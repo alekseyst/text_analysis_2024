{
  "nbformat": 4,
  "nbformat_minor": 0,
  "metadata": {
    "colab": {
      "provenance": []
    },
    "kernelspec": {
      "name": "python3",
      "display_name": "Python 3"
    },
    "language_info": {
      "name": "python"
    }
  },
  "cells": [
    {
      "cell_type": "markdown",
      "source": [
        "#Что умеет Питон?\n",
        "\n",
        "## Если коротко\n",
        "\n",
        "- быстро и много работать\n",
        "- но если ему чётко сказать как\n",
        "- вы говорите с ним на особом языке, который похож на английский, но с кучей условностей\n",
        "- это нужно, чтобы вас лучше понимали — но чтобы понимать самим, что происходит, нужно разобраться..."
      ],
      "metadata": {
        "id": "JJLAEQoeRjCu"
      }
    },
    {
      "cell_type": "markdown",
      "source": [
        "##А где мы сейчас?\n",
        "\n",
        "- [перейдите по ссылке](https://colab.research.google.com/drive/1MyLhXzSLWLA0BEMfyCGjXQiY588A2D50?usp=sharing)\n",
        "- это Google Colab — онлайн реализация [Jupyter Notebook](https://jupyter.org/)\n",
        "- здесь можно сделать текстовую ячейку с помощью [Markdown](https://www.markdownguide.org/cheat-sheet/)\n",
        "- или ячейку с кодом (они ниже)\n",
        "- в каждой ячейке код выполняется отдельно и в конце выводится результат\n",
        "- [ссылка на эту тетрадку](https://colab.research.google.com/drive/1MyLhXzSLWLA0BEMfyCGjXQiY588A2D50?usp=sharing) — её можно скопировать к себе и выполнять задания прямо в ней"
      ],
      "metadata": {
        "id": "vOQdkp3-RsFY"
      }
    },
    {
      "cell_type": "markdown",
      "source": [
        "## Перейдём к делу!\n"
      ],
      "metadata": {
        "id": "y1Qkj8VXTJ8E"
      }
    },
    {
      "cell_type": "code",
      "execution_count": null,
      "metadata": {
        "id": "-kg8ygXsRgwx"
      },
      "outputs": [],
      "source": [
        "#Это комментарий — он начинается с решётки и ничего не делает\n",
        "#Зато комментариями можно писать пояснения"
      ]
    },
    {
      "cell_type": "markdown",
      "source": [
        "###Питон можно использовать как калькулятор\n",
        "\n",
        "Из неочевидного (и не очень-то пригодится):\n",
        "\n",
        "- \\* — умножение\n",
        "- / — деление\n",
        "- ** — возведение в степень\n",
        "- // — деление без остатка\n",
        "- % — остаток от деления\n",
        "\n",
        "Чтобы запустить ячейку нажмите на треугольник или Ctrl-Enter"
      ],
      "metadata": {
        "id": "ZNIzpRG0TeTv"
      }
    },
    {
      "cell_type": "code",
      "source": [
        "3 + 5"
      ],
      "metadata": {
        "id": "fLG7Bd5eTZvH",
        "colab": {
          "base_uri": "https://localhost:8080/"
        },
        "outputId": "dc52c5b6-c889-4499-a21b-24fc0bf45d8b"
      },
      "execution_count": null,
      "outputs": [
        {
          "output_type": "execute_result",
          "data": {
            "text/plain": [
              "8"
            ]
          },
          "metadata": {},
          "execution_count": 5
        }
      ]
    },
    {
      "cell_type": "code",
      "source": [
        "8 * 400"
      ],
      "metadata": {
        "id": "w_H0a6jnT1LL",
        "colab": {
          "base_uri": "https://localhost:8080/"
        },
        "outputId": "75cb852b-2606-4cb7-c6ae-227e3640acdb"
      },
      "execution_count": null,
      "outputs": [
        {
          "output_type": "execute_result",
          "data": {
            "text/plain": [
              "3200"
            ]
          },
          "metadata": {},
          "execution_count": 6
        }
      ]
    },
    {
      "cell_type": "code",
      "source": [
        "(5 ** 2) / 2"
      ],
      "metadata": {
        "id": "m0fAPGiOT3qZ",
        "colab": {
          "base_uri": "https://localhost:8080/"
        },
        "outputId": "95a95266-7900-48e2-d2b4-2e2c2767e94f"
      },
      "execution_count": null,
      "outputs": [
        {
          "output_type": "execute_result",
          "data": {
            "text/plain": [
              "12.5"
            ]
          },
          "metadata": {},
          "execution_count": 12
        }
      ]
    },
    {
      "cell_type": "code",
      "source": [
        "25 // 2"
      ],
      "metadata": {
        "id": "KO2lrKJcUBfA",
        "colab": {
          "base_uri": "https://localhost:8080/"
        },
        "outputId": "74b7ce25-600d-4178-b138-74ac0cf10803"
      },
      "execution_count": null,
      "outputs": [
        {
          "output_type": "execute_result",
          "data": {
            "text/plain": [
              "12"
            ]
          },
          "metadata": {},
          "execution_count": 13
        }
      ]
    },
    {
      "cell_type": "markdown",
      "source": [
        "####Задание 1.1\n",
        "\n",
        "Посчитайте с помощью Питона результат выражения $5 + 8 + 73$"
      ],
      "metadata": {
        "id": "8EY48cBHkhZb"
      }
    },
    {
      "cell_type": "code",
      "source": [
        "#Решение задания 1.1\n",
        "\n",
        "5 + 8 + 73"
      ],
      "metadata": {
        "id": "pSD9XQw3lWXq",
        "colab": {
          "base_uri": "https://localhost:8080/"
        },
        "outputId": "86d07940-c524-4133-af03-be685af47b28"
      },
      "execution_count": null,
      "outputs": [
        {
          "output_type": "execute_result",
          "data": {
            "text/plain": [
              "86"
            ]
          },
          "metadata": {},
          "execution_count": 14
        }
      ]
    },
    {
      "cell_type": "markdown",
      "source": [
        "####Задание 1.2\n",
        "\n",
        "Посчитайте с помощью Питона результат выражения $\\frac{365^3}{73^2}$"
      ],
      "metadata": {
        "id": "8tOQUMH1mPq-"
      }
    },
    {
      "cell_type": "code",
      "source": [
        "#Решение задания 1.2\n",
        "\n",
        "(365 ** 3) / (73 ** 2)"
      ],
      "metadata": {
        "id": "_xxipAyxmWw2",
        "colab": {
          "base_uri": "https://localhost:8080/"
        },
        "outputId": "4d7bc88b-3a24-44e2-bb80-66a95c964f65"
      },
      "execution_count": null,
      "outputs": [
        {
          "output_type": "execute_result",
          "data": {
            "text/plain": [
              "9125.0"
            ]
          },
          "metadata": {},
          "execution_count": 15
        }
      ]
    },
    {
      "cell_type": "markdown",
      "source": [
        "###Переменные\n",
        "\n",
        "Мы можем попросить Питон что-нибудь запомнить\n",
        "\n",
        "Для этого используетя знак \"=\". Название переменной слева от равно, то, что запоминаем, справа"
      ],
      "metadata": {
        "id": "bKL_feoNY0dg"
      }
    },
    {
      "cell_type": "code",
      "source": [
        "a = 5\n",
        "\n",
        "a"
      ],
      "metadata": {
        "id": "qmakdbDwWsNx",
        "colab": {
          "base_uri": "https://localhost:8080/"
        },
        "outputId": "c7911839-c3ef-4be9-8dd1-6a9167e9e264"
      },
      "execution_count": null,
      "outputs": [
        {
          "output_type": "stream",
          "name": "stdout",
          "text": [
            "5\n"
          ]
        }
      ]
    },
    {
      "cell_type": "code",
      "source": [
        "b = (5 ** 2) / 2\n",
        "\n",
        "b"
      ],
      "metadata": {
        "id": "NMcNtZEIagwN"
      },
      "execution_count": null,
      "outputs": []
    },
    {
      "cell_type": "code",
      "source": [
        "a + b"
      ],
      "metadata": {
        "id": "oq8Gyb4ci-A0",
        "colab": {
          "base_uri": "https://localhost:8080/"
        },
        "outputId": "1149a7fe-f734-48ea-d255-2c7cb247d6ff"
      },
      "execution_count": null,
      "outputs": [
        {
          "output_type": "execute_result",
          "data": {
            "text/plain": [
              "17.5"
            ]
          },
          "metadata": {},
          "execution_count": 18
        }
      ]
    },
    {
      "cell_type": "markdown",
      "source": [
        "Никогда не называйте переменные так, как выше! Используйте понятные название: чтобы вы или кто-то ещё, читая ваш код, не запутался на третьей строчке."
      ],
      "metadata": {
        "id": "4oIZhIKdjCgN"
      }
    },
    {
      "cell_type": "markdown",
      "source": [
        "####Задание 2\n",
        "\n",
        "Вычислите $\\frac{365^3}{73^2}$ и сразу запишите результат подсчёта выражения  в переменную. Назовите её осмысленно."
      ],
      "metadata": {
        "id": "9YfpY274md_8"
      }
    },
    {
      "cell_type": "code",
      "source": [
        "#Решение задания 2\n",
        "\n",
        "my_calculations_35 = (365 ** 3) / (73 ** 2)\n",
        "\n",
        "my_calculations_35"
      ],
      "metadata": {
        "id": "yIT_jKqRjN8H",
        "colab": {
          "base_uri": "https://localhost:8080/"
        },
        "outputId": "8dcf4ce1-76f5-41bd-c760-07f49a33cf92"
      },
      "execution_count": null,
      "outputs": [
        {
          "output_type": "execute_result",
          "data": {
            "text/plain": [
              "9125.0"
            ]
          },
          "metadata": {},
          "execution_count": 28
        }
      ]
    },
    {
      "cell_type": "markdown",
      "source": [
        "###Сравнение\n",
        "\n",
        "Мы используем равно, чтобы что-то записать в переменную. Но как же тогда что-нибудь сравнить?!"
      ],
      "metadata": {
        "id": "FVRViwgMms8U"
      }
    },
    {
      "cell_type": "code",
      "source": [
        " 5 = 3+2"
      ],
      "metadata": {
        "id": "BbTOcsJtjAQA",
        "colab": {
          "base_uri": "https://localhost:8080/",
          "height": 144
        },
        "outputId": "c0914595-e449-433d-aade-00cde069a1f0"
      },
      "execution_count": null,
      "outputs": [
        {
          "output_type": "error",
          "ename": "SyntaxError",
          "evalue": "cannot assign to literal here. Maybe you meant '==' instead of '='? (<ipython-input-27-dc53f2f9892c>, line 1)",
          "traceback": [
            "\u001b[0;36m  File \u001b[0;32m\"<ipython-input-27-dc53f2f9892c>\"\u001b[0;36m, line \u001b[0;32m1\u001b[0m\n\u001b[0;31m    5 = 3+2\u001b[0m\n\u001b[0m    ^\u001b[0m\n\u001b[0;31mSyntaxError\u001b[0m\u001b[0;31m:\u001b[0m cannot assign to literal here. Maybe you meant '==' instead of '='?\n"
          ]
        }
      ]
    },
    {
      "cell_type": "code",
      "source": [
        " 5 == 3+2"
      ],
      "metadata": {
        "id": "fJu4rB4Nnnm3",
        "colab": {
          "base_uri": "https://localhost:8080/"
        },
        "outputId": "ab68c85b-604e-4c4d-dda5-aff46742d993"
      },
      "execution_count": null,
      "outputs": [
        {
          "output_type": "execute_result",
          "data": {
            "text/plain": [
              "True"
            ]
          },
          "metadata": {},
          "execution_count": 29
        }
      ]
    },
    {
      "cell_type": "code",
      "source": [
        " 5 == 3+3"
      ],
      "metadata": {
        "id": "wFuvVJlfnpLe",
        "colab": {
          "base_uri": "https://localhost:8080/"
        },
        "outputId": "cdfd8e8f-65c2-4043-fa40-f8a42cf183e2"
      },
      "execution_count": null,
      "outputs": [
        {
          "output_type": "execute_result",
          "data": {
            "text/plain": [
              "True"
            ]
          },
          "metadata": {},
          "execution_count": 32
        }
      ]
    },
    {
      "cell_type": "markdown",
      "source": [
        "Для сравнения используем знаки \"==\", \">\", \"<\" и получаем как значения \"Правда\" (True) или \"Ложь\" (False).\n",
        "\n",
        "Зачем это вообще? Для того, чтобы писать условия. Конструкция выглядит так:"
      ],
      "metadata": {
        "id": "d6vH76LIn2Jo"
      }
    },
    {
      "cell_type": "code",
      "source": [
        "# Эта ячейка не отработает, потому что в ней не указано ни условие, ни результат\n",
        "if условие:\n",
        "  #результат 1\n",
        "elif условие 2:\n",
        "  #результат 2\n",
        "else:\n",
        "  #результат 3\n",
        "\n",
        "#Любой фрагмент, кроме первого if, можно опустить"
      ],
      "metadata": {
        "id": "A7FMD59HnrhG"
      },
      "execution_count": null,
      "outputs": []
    },
    {
      "cell_type": "code",
      "source": [
        "#Вот эти вот штуки print(\"Это положительное число\") — это мы забегаем вперёд\n",
        "#Если вы чувствуете, что нам нужны не только числа — то вот они не числа!\n",
        "\n",
        "x = 0\n",
        "\n",
        "if x > 0:\n",
        "  print(\"Это положительное число\")\n",
        "elif x < 0:\n",
        "  print(\"Это отрицательное число\")\n",
        "else:\n",
        "  print(\"Это ноль\")"
      ],
      "metadata": {
        "id": "eQO0Zs-Ao_6c",
        "colab": {
          "base_uri": "https://localhost:8080/"
        },
        "outputId": "0c699843-7948-4c8a-d418-e01d9fa0c88f"
      },
      "execution_count": null,
      "outputs": [
        {
          "output_type": "stream",
          "name": "stdout",
          "text": [
            "Это ноль\n"
          ]
        }
      ]
    },
    {
      "cell_type": "markdown",
      "source": [
        "####Задание 3\n",
        "\n",
        "Напишите условие, которое проверяет, равно ли число 5, и если да — печатает 5, а если нет — говорит, что это не 5"
      ],
      "metadata": {
        "id": "YYFFHPZopWm4"
      }
    },
    {
      "cell_type": "code",
      "source": [
        "#Решение задания 3\n",
        "\n"
      ],
      "metadata": {
        "id": "Dpg-vcZ9pOXJ",
        "colab": {
          "base_uri": "https://localhost:8080/"
        },
        "outputId": "81a3b1ce-3194-448f-a590-0660d3a033c2"
      },
      "execution_count": null,
      "outputs": [
        {
          "output_type": "stream",
          "name": "stdout",
          "text": [
            "Это не 5!\n"
          ]
        }
      ]
    },
    {
      "cell_type": "markdown",
      "source": [
        "###Типы данных\n",
        "\n",
        "До этого мы в основном работали с числами, но хотим, конечно, работать не только с ними\n",
        "\n",
        "- строки — содержат текстовую информацию и пишутся в кавычках '' или \"\"\n",
        "- списки — содержат набор элементов Питона и пишутся в квадратных скобках через запятую [ ]\n",
        "- есть и другие типы данных, но нам пока хватит:)"
      ],
      "metadata": {
        "id": "Z24puYJjqNgn"
      }
    },
    {
      "cell_type": "code",
      "source": [
        "new_line = 'это строка'\n",
        "\n",
        "new_line"
      ],
      "metadata": {
        "id": "Atru_PoBrfw2",
        "colab": {
          "base_uri": "https://localhost:8080/",
          "height": 36
        },
        "outputId": "361387a5-806f-468b-d54d-482d839e9269"
      },
      "execution_count": null,
      "outputs": [
        {
          "output_type": "execute_result",
          "data": {
            "text/plain": [
              "'это строка'"
            ],
            "application/vnd.google.colaboratory.intrinsic+json": {
              "type": "string"
            }
          },
          "metadata": {},
          "execution_count": 40
        }
      ]
    },
    {
      "cell_type": "code",
      "source": [
        "new_list = [4, 'я очень разнообразный', [2, 3], new_line]\n",
        "\n",
        "new_list"
      ],
      "metadata": {
        "id": "SX0To4Gfrmxn",
        "colab": {
          "base_uri": "https://localhost:8080/"
        },
        "outputId": "5941d02c-aaef-448d-cac4-684cffa9b6cb"
      },
      "execution_count": null,
      "outputs": [
        {
          "output_type": "execute_result",
          "data": {
            "text/plain": [
              "[4, 'я очень разнообразный', [2, 3], 'это строка']"
            ]
          },
          "metadata": {},
          "execution_count": 41
        }
      ]
    },
    {
      "cell_type": "markdown",
      "source": [
        "####Задание 4\n",
        "\n",
        "Создайте список и выведите и запишите в него два любых числа, один список и две переменные. Переменные придётся создать заранее."
      ],
      "metadata": {
        "id": "TfOytg3gsD2G"
      }
    },
    {
      "cell_type": "code",
      "source": [
        "#Решение задания 4\n",
        "\n"
      ],
      "metadata": {
        "id": "7YTn4iCvr5iI"
      },
      "execution_count": null,
      "outputs": []
    },
    {
      "cell_type": "markdown",
      "source": [
        "Со строками и списками, как и с числами, можно производить разные операции. Не всегда предсказуемо, что произойдёт — и чтобы узнать, как сделать что-то конкретное со строкой или списком, обычно приходится искать это"
      ],
      "metadata": {
        "id": "JDEba3spsX04"
      }
    },
    {
      "cell_type": "code",
      "source": [
        "two_words = \"два\" + \"слова\"\n",
        "\n",
        "two_words"
      ],
      "metadata": {
        "id": "hy2Re4azsVBD",
        "colab": {
          "base_uri": "https://localhost:8080/",
          "height": 36
        },
        "outputId": "36e3cf0d-def7-4646-efd0-ab4f265bf359"
      },
      "execution_count": null,
      "outputs": [
        {
          "output_type": "execute_result",
          "data": {
            "text/plain": [
              "'дваслова'"
            ],
            "application/vnd.google.colaboratory.intrinsic+json": {
              "type": "string"
            }
          },
          "metadata": {},
          "execution_count": 50
        }
      ]
    },
    {
      "cell_type": "code",
      "source": [
        "#Считаем длину слова\n",
        "\n",
        "len(two_words)"
      ],
      "metadata": {
        "id": "YApKMuZRs7wo",
        "colab": {
          "base_uri": "https://localhost:8080/"
        },
        "outputId": "c4b080bd-d71e-4165-e519-a6ad45e0a8b5"
      },
      "execution_count": null,
      "outputs": [
        {
          "output_type": "execute_result",
          "data": {
            "text/plain": [
              "8"
            ]
          },
          "metadata": {},
          "execution_count": 52
        }
      ]
    },
    {
      "cell_type": "code",
      "source": [
        "#Считаем длину списка\n",
        "\n",
        "len(new_list)"
      ],
      "metadata": {
        "id": "0lLvC4oTtdUy",
        "colab": {
          "base_uri": "https://localhost:8080/"
        },
        "outputId": "908e4dba-3dcc-494b-829f-f4b188ed4b43"
      },
      "execution_count": null,
      "outputs": [
        {
          "output_type": "execute_result",
          "data": {
            "text/plain": [
              "4"
            ]
          },
          "metadata": {},
          "execution_count": 54
        }
      ]
    },
    {
      "cell_type": "code",
      "source": [
        "#Делаем, чтобы слово писалось с заглавной буквы\n",
        "\n",
        "two_words.capitalize()"
      ],
      "metadata": {
        "id": "mhdIv6adtOPT",
        "colab": {
          "base_uri": "https://localhost:8080/",
          "height": 36
        },
        "outputId": "5e257d9b-a849-4bdb-ff1a-564900771e23"
      },
      "execution_count": null,
      "outputs": [
        {
          "output_type": "execute_result",
          "data": {
            "text/plain": [
              "'Дваслова'"
            ],
            "application/vnd.google.colaboratory.intrinsic+json": {
              "type": "string"
            }
          },
          "metadata": {},
          "execution_count": 55
        }
      ]
    },
    {
      "cell_type": "code",
      "source": [
        "#Проверяем, на что кончается слово\n",
        "\n",
        "two_words.endswith('ы')"
      ],
      "metadata": {
        "id": "afjeP8zptuvR",
        "colab": {
          "base_uri": "https://localhost:8080/"
        },
        "outputId": "ac51bdd8-d8a4-4c9a-99f3-7cd7b24785f5"
      },
      "execution_count": null,
      "outputs": [
        {
          "output_type": "execute_result",
          "data": {
            "text/plain": [
              "False"
            ]
          },
          "metadata": {},
          "execution_count": 56
        }
      ]
    },
    {
      "cell_type": "markdown",
      "source": [
        "####Задание 5\n",
        "\n",
        "Запишите условие, которое проверяет, кончается ли слово на букву \"а\" и если кончается — дописывает к нему ещё 5 букв \"а\", а если нет — просто возвращает слово"
      ],
      "metadata": {
        "id": "bcJebMcDsxa4"
      }
    },
    {
      "cell_type": "code",
      "source": [
        "#Решение задания 5\n",
        "\n"
      ],
      "metadata": {
        "id": "QljaEp7muDO7",
        "colab": {
          "base_uri": "https://localhost:8080/"
        },
        "outputId": "e7faf544-d7f6-46e6-d0a9-8873534d29dd"
      },
      "execution_count": null,
      "outputs": [
        {
          "output_type": "stream",
          "name": "stdout",
          "text": [
            "Питонаaaaaa\n"
          ]
        }
      ]
    },
    {
      "cell_type": "markdown",
      "source": [
        "###Функции\n",
        "\n",
        "Мы уже использовали функции — особые выражения, которое пишутся со скобками: print() и выполняют какое-то действие с тем, что внутри скобок\n",
        "\n",
        "То, что мы писали через точку после строк — .capitalize() — тоже функции, но с немного особым синтаксисом.\n",
        "\n",
        "В скобках у функции может быть несколько аргументов — и важно понимать, как именно она будет с ними обращаться."
      ],
      "metadata": {
        "id": "XyZPhw9gudGB"
      }
    },
    {
      "cell_type": "code",
      "source": [
        "#Два аргумента функции\n",
        "print('Hello', 'World!')"
      ],
      "metadata": {
        "id": "MVantWBrBnJx",
        "colab": {
          "base_uri": "https://localhost:8080/"
        },
        "outputId": "46407fc7-f8ea-4bae-a919-1884aa7643b8"
      },
      "execution_count": null,
      "outputs": [
        {
          "output_type": "stream",
          "name": "stdout",
          "text": [
            "Hello World!\n"
          ]
        }
      ]
    },
    {
      "cell_type": "code",
      "source": [
        "help(print)"
      ],
      "metadata": {
        "colab": {
          "base_uri": "https://localhost:8080/"
        },
        "id": "WIxO2bP59CAl",
        "outputId": "2da2a186-d9d5-448a-db18-f4818724c65e"
      },
      "execution_count": null,
      "outputs": [
        {
          "output_type": "stream",
          "name": "stdout",
          "text": [
            "Help on built-in function print in module builtins:\n",
            "\n",
            "print(...)\n",
            "    print(value, ..., sep=' ', end='\\n', file=sys.stdout, flush=False)\n",
            "    \n",
            "    Prints the values to a stream, or to sys.stdout by default.\n",
            "    Optional keyword arguments:\n",
            "    file:  a file-like object (stream); defaults to the current sys.stdout.\n",
            "    sep:   string inserted between values, default a space.\n",
            "    end:   string appended after the last value, default a newline.\n",
            "    flush: whether to forcibly flush the stream.\n",
            "\n"
          ]
        }
      ]
    },
    {
      "cell_type": "code",
      "source": [
        "print('Hello', 'World!')"
      ],
      "metadata": {
        "id": "5AxK_GpUB2sO",
        "colab": {
          "base_uri": "https://localhost:8080/"
        },
        "outputId": "e9826682-c8a1-42dc-f0f3-dbf9f40a31cd"
      },
      "execution_count": null,
      "outputs": [
        {
          "output_type": "stream",
          "name": "stdout",
          "text": [
            "Hello____World!____something else\n"
          ]
        }
      ]
    },
    {
      "cell_type": "code",
      "source": [
        "'это предложение, у которого на конце что-то лишнее \\n'.strip()"
      ],
      "metadata": {
        "id": "eqxYacDTB6Ob",
        "colab": {
          "base_uri": "https://localhost:8080/",
          "height": 36
        },
        "outputId": "bb58c032-4c44-4e9e-a7da-6447f4e10468"
      },
      "execution_count": null,
      "outputs": [
        {
          "output_type": "execute_result",
          "data": {
            "text/plain": [
              "'это предложение, у которого на конце что-то лишнее'"
            ],
            "application/vnd.google.colaboratory.intrinsic+json": {
              "type": "string"
            }
          },
          "metadata": {},
          "execution_count": 49
        }
      ]
    },
    {
      "cell_type": "code",
      "source": [
        "'это предложение, у которого на конце что-то лишнее \\n'.strip('\\n')"
      ],
      "metadata": {
        "id": "l5PlSD97Gb28",
        "colab": {
          "base_uri": "https://localhost:8080/",
          "height": 36
        },
        "outputId": "f2db98be-591f-452b-e211-985d96abfab2"
      },
      "execution_count": null,
      "outputs": [
        {
          "output_type": "execute_result",
          "data": {
            "text/plain": [
              "'это предложение, у которого на конце что-то лишнее '"
            ],
            "application/vnd.google.colaboratory.intrinsic+json": {
              "type": "string"
            }
          },
          "metadata": {},
          "execution_count": 67
        }
      ]
    },
    {
      "cell_type": "markdown",
      "source": [
        "Огромное количество функций написано за нас!\n",
        "\n",
        "Эти функции вместе с другими полезными вещами складывают в библиотеки или модули — и их можно брать и использовать!"
      ],
      "metadata": {
        "id": "HzjSqXBGGvQE"
      }
    },
    {
      "cell_type": "code",
      "source": [
        "import math #Просим загрузить нам модуль"
      ],
      "metadata": {
        "id": "2DDXKffYG-SP"
      },
      "execution_count": null,
      "outputs": []
    },
    {
      "cell_type": "code",
      "source": [
        "#Извлекаем квадратный корень функцией из этого модуля\n",
        "math.sqrt(25)"
      ],
      "metadata": {
        "id": "ZHlBPaHwHH5k",
        "colab": {
          "base_uri": "https://localhost:8080/"
        },
        "outputId": "7716bb45-9e33-41b7-bdd8-82b13d5cbd83"
      },
      "execution_count": null,
      "outputs": [
        {
          "output_type": "execute_result",
          "data": {
            "text/plain": [
              "5.0"
            ]
          },
          "metadata": {},
          "execution_count": 52
        }
      ]
    },
    {
      "cell_type": "code",
      "source": [
        "!pip install nltk #Скачиваем модуль\n",
        "import nltk #Просим загрузить нам модуль\n",
        "nltk.download('punkt') #Скачиваем ещё кусочек модуля"
      ],
      "metadata": {
        "id": "F-aYwdyrHTn9",
        "colab": {
          "base_uri": "https://localhost:8080/"
        },
        "outputId": "775ec032-ceff-464f-fc47-8b21c57c7612"
      },
      "execution_count": null,
      "outputs": [
        {
          "output_type": "stream",
          "name": "stdout",
          "text": [
            "Requirement already satisfied: nltk in /usr/local/lib/python3.10/dist-packages (3.8.1)\n",
            "Requirement already satisfied: click in /usr/local/lib/python3.10/dist-packages (from nltk) (8.1.7)\n",
            "Requirement already satisfied: joblib in /usr/local/lib/python3.10/dist-packages (from nltk) (1.3.2)\n",
            "Requirement already satisfied: regex>=2021.8.3 in /usr/local/lib/python3.10/dist-packages (from nltk) (2023.12.25)\n",
            "Requirement already satisfied: tqdm in /usr/local/lib/python3.10/dist-packages (from nltk) (4.66.2)\n"
          ]
        },
        {
          "output_type": "stream",
          "name": "stderr",
          "text": [
            "[nltk_data] Downloading package punkt to /root/nltk_data...\n",
            "[nltk_data]   Package punkt is already up-to-date!\n"
          ]
        },
        {
          "output_type": "execute_result",
          "data": {
            "text/plain": [
              "True"
            ]
          },
          "metadata": {},
          "execution_count": 55
        }
      ]
    },
    {
      "cell_type": "code",
      "source": [
        "nltk.tokenize.word_tokenize('Я хочу разделить на слова длинное предложение, которое включает в себя знаки препинания!')"
      ],
      "metadata": {
        "id": "VocXfuBEH1kW",
        "colab": {
          "base_uri": "https://localhost:8080/"
        },
        "outputId": "06f4c91a-29ff-47cc-a87b-0e3fbd65e775"
      },
      "execution_count": null,
      "outputs": [
        {
          "output_type": "execute_result",
          "data": {
            "text/plain": [
              "['Я',\n",
              " 'хочу',\n",
              " 'разделить',\n",
              " 'на',\n",
              " 'слова',\n",
              " 'длинное',\n",
              " 'предложение',\n",
              " ',',\n",
              " 'которое',\n",
              " 'включает',\n",
              " 'в',\n",
              " 'себя',\n",
              " 'знаки',\n",
              " 'препинания',\n",
              " '!']"
            ]
          },
          "metadata": {},
          "execution_count": 57
        }
      ]
    },
    {
      "cell_type": "markdown",
      "source": [
        "#### Задание 6\n",
        "\n",
        "Импортируйте модуль random. Используйте функцию randint из него, чтобы сгенерировать случайное число от одного до 10. Чтобы понять, какие аргументы у этой функции, можно почитать [документацию](https://docs.python.org/3/library/random.html) или просто загуглить random.randint."
      ],
      "metadata": {
        "id": "ndZfv9AMJFtP"
      }
    },
    {
      "cell_type": "code",
      "source": [
        "#Решение задания 6\n",
        "\n"
      ],
      "metadata": {
        "id": "bJikhS67JLaD",
        "colab": {
          "base_uri": "https://localhost:8080/"
        },
        "outputId": "a58e5dc2-9070-467d-f1b2-467d1a62bf84"
      },
      "execution_count": null,
      "outputs": [
        {
          "output_type": "execute_result",
          "data": {
            "text/plain": [
              "5"
            ]
          },
          "metadata": {},
          "execution_count": 64
        }
      ]
    },
    {
      "cell_type": "markdown",
      "source": [
        "### Работа со списками\n",
        "\n",
        "С помощью квадратных скобок можно обращаться к элементам списка"
      ],
      "metadata": {
        "id": "ez3QGURjW3Oq"
      }
    },
    {
      "cell_type": "code",
      "source": [
        "my_list = ['Это', 'предложение', 'разбитое', 'на', 'слова']\n",
        "\n",
        "my_list[3] #начинаем с нуля!"
      ],
      "metadata": {
        "colab": {
          "base_uri": "https://localhost:8080/",
          "height": 36
        },
        "id": "U6djiTWtW1yN",
        "outputId": "0608c17d-4069-4ddc-b60e-43e73acc02d6"
      },
      "execution_count": null,
      "outputs": [
        {
          "output_type": "execute_result",
          "data": {
            "text/plain": [
              "'на'"
            ],
            "application/vnd.google.colaboratory.intrinsic+json": {
              "type": "string"
            }
          },
          "metadata": {},
          "execution_count": 65
        }
      ]
    },
    {
      "cell_type": "code",
      "source": [
        "my_list[2:4] #с 2 включительно по 4 не включительно"
      ],
      "metadata": {
        "colab": {
          "base_uri": "https://localhost:8080/"
        },
        "id": "sjM8v7pLXsT2",
        "outputId": "51edc4b2-ec25-4ae5-c263-b172cae1aac2"
      },
      "execution_count": null,
      "outputs": [
        {
          "output_type": "execute_result",
          "data": {
            "text/plain": [
              "['разбитое', 'на']"
            ]
          },
          "metadata": {},
          "execution_count": 7
        }
      ]
    },
    {
      "cell_type": "code",
      "source": [
        "my_list[:4] #с начала по 4 не включительно"
      ],
      "metadata": {
        "colab": {
          "base_uri": "https://localhost:8080/"
        },
        "id": "0ZN6O3s9XzV8",
        "outputId": "24333661-0b8f-426c-a6cc-9bcc402dd94a"
      },
      "execution_count": null,
      "outputs": [
        {
          "output_type": "execute_result",
          "data": {
            "text/plain": [
              "['Это', 'предложение', 'разбитое', 'на']"
            ]
          },
          "metadata": {},
          "execution_count": 9
        }
      ]
    },
    {
      "cell_type": "code",
      "source": [
        "' '.join(my_list[:4]) #Превращаем список в строку с разделителем пробелом"
      ],
      "metadata": {
        "colab": {
          "base_uri": "https://localhost:8080/",
          "height": 36
        },
        "id": "oaUdLWk0YQnL",
        "outputId": "766573f7-f156-4f99-ec18-589bd364940b"
      },
      "execution_count": null,
      "outputs": [
        {
          "output_type": "execute_result",
          "data": {
            "text/plain": [
              "'Это предложение разбитое на'"
            ],
            "application/vnd.google.colaboratory.intrinsic+json": {
              "type": "string"
            }
          },
          "metadata": {},
          "execution_count": 70
        }
      ]
    },
    {
      "cell_type": "code",
      "source": [
        "''.join(my_list[:4]) #Можно выбрать любой другой разделитель, в том числе пустую строку"
      ],
      "metadata": {
        "colab": {
          "base_uri": "https://localhost:8080/",
          "height": 36
        },
        "id": "TVehFMtriBoM",
        "outputId": "7fb03eea-2fe3-47df-c039-dfc727fda15b"
      },
      "execution_count": null,
      "outputs": [
        {
          "output_type": "execute_result",
          "data": {
            "text/plain": [
              "'Этопредложениеразбитоена'"
            ],
            "application/vnd.google.colaboratory.intrinsic+json": {
              "type": "string"
            }
          },
          "metadata": {},
          "execution_count": 20
        }
      ]
    },
    {
      "cell_type": "code",
      "source": [
        "'Это предложение пока не разбито на слова'.split() #В скобках можно указать, по какому символу разбивать — по умолчанию пробел"
      ],
      "metadata": {
        "colab": {
          "base_uri": "https://localhost:8080/"
        },
        "id": "WUOIDfkzaqnO",
        "outputId": "744171de-11a8-41ed-9fe5-3d69c6a5660c"
      },
      "execution_count": null,
      "outputs": [
        {
          "output_type": "execute_result",
          "data": {
            "text/plain": [
              "['Это', 'предложение', 'пока', 'не', 'разбито', 'на', 'слова']"
            ]
          },
          "metadata": {},
          "execution_count": 12
        }
      ]
    },
    {
      "cell_type": "markdown",
      "source": [
        "#### Задание 7\n",
        "\n",
        "Разбейте это предложение на слова по пробелу, выберите и соедините элементы с 6 по 9, выведите результат"
      ],
      "metadata": {
        "id": "I1E91MtxZHW-"
      }
    },
    {
      "cell_type": "code",
      "source": [
        "#Решение задания 7\n",
        "\n",
        "long_line = 'Разбейте это предложение на слова по пробелу, выберите и соедините элементы с 6 по 9, выведите результат'\n",
        "\n",
        "long_line_split = long_line.split()\n",
        "\n",
        "' '.join(long_line_split[5:9])"
      ],
      "metadata": {
        "id": "p5KFe_TKbnyJ",
        "colab": {
          "base_uri": "https://localhost:8080/",
          "height": 36
        },
        "outputId": "9ab0bb55-9ccd-42cb-b8f8-bab982fac916"
      },
      "execution_count": null,
      "outputs": [
        {
          "output_type": "execute_result",
          "data": {
            "text/plain": [
              "'по пробелу, выберите и'"
            ],
            "application/vnd.google.colaboratory.intrinsic+json": {
              "type": "string"
            }
          },
          "metadata": {},
          "execution_count": 72
        }
      ]
    },
    {
      "cell_type": "markdown",
      "source": [
        "###Циклы\n",
        "\n",
        "Бывает, что одно и то же действие нужно выполнить множество раз.\n",
        "\n",
        "Цикл while выполняет действие, пока не выполнится какое-то условие\n",
        "\n",
        "Цикл for идёт по списку (или другому итерируемому объекту) и выполняет действие для каждого элемента.\n",
        "\n",
        "Мы будем использовать практически только второй цикл."
      ],
      "metadata": {
        "id": "-ok6khtCGot0"
      }
    },
    {
      "cell_type": "code",
      "source": [
        "import random"
      ],
      "metadata": {
        "id": "kCofjl5zdVfG"
      },
      "execution_count": null,
      "outputs": []
    },
    {
      "cell_type": "code",
      "source": [
        "letters = 'tyujhgvfbsdfkjsl' #Попробуем понять, что здесь происходит\n",
        "\n",
        "made_up_word = ''\n",
        "\n",
        "while len(made_up_word) < 5:\n",
        "  made_up_word = made_up_word + random.choice(letters)\n",
        "\n",
        "made_up_word"
      ],
      "metadata": {
        "id": "dHYfvUHJGkL_",
        "colab": {
          "base_uri": "https://localhost:8080/",
          "height": 36
        },
        "outputId": "e5bc60f1-63c6-4bf9-9161-e53963efa3ba"
      },
      "execution_count": null,
      "outputs": [
        {
          "output_type": "execute_result",
          "data": {
            "text/plain": [
              "'bffty'"
            ],
            "application/vnd.google.colaboratory.intrinsic+json": {
              "type": "string"
            }
          },
          "metadata": {},
          "execution_count": 83
        }
      ]
    },
    {
      "cell_type": "code",
      "source": [
        "my_list = ['Это', 'предложение', 'разбитое', 'на', 'слова']\n",
        "\n",
        "for word in my_list: #Берём каждый элемент списка my_list и выводим его на печать\n",
        "  print(word)"
      ],
      "metadata": {
        "colab": {
          "base_uri": "https://localhost:8080/"
        },
        "id": "lA_QRbkoc4YL",
        "outputId": "4b7b8cc1-c6dd-42b7-b1c7-55fb55dda4f7"
      },
      "execution_count": null,
      "outputs": [
        {
          "output_type": "stream",
          "name": "stdout",
          "text": [
            "Это\n",
            "предложение\n",
            "разбитое\n",
            "на\n",
            "слова\n"
          ]
        }
      ]
    },
    {
      "cell_type": "code",
      "source": [
        "my_list_lengths = [] #Создаём список, который будет запоминать длины слов\n",
        "\n",
        "for word in my_list:#Берём каждый элемент списка my_list\n",
        "  word_length = len(word) #Считаем длину элемента\n",
        "  my_list_lengths.append(word_length) #Добавляем его в список с длинами слов\n",
        "\n",
        "my_list_lengths"
      ],
      "metadata": {
        "colab": {
          "base_uri": "https://localhost:8080/"
        },
        "id": "7SZGAeYrdo6C",
        "outputId": "1de916ac-b762-433d-d4e4-753883d2e3d2"
      },
      "execution_count": null,
      "outputs": [
        {
          "output_type": "execute_result",
          "data": {
            "text/plain": [
              "[3, 11, 8, 2, 5]"
            ]
          },
          "metadata": {},
          "execution_count": 92
        }
      ]
    },
    {
      "cell_type": "code",
      "source": [
        "sum(my_list_lengths)/len(my_list_lengths) #Делим сумму всех элементов списка на их количество"
      ],
      "metadata": {
        "colab": {
          "base_uri": "https://localhost:8080/"
        },
        "id": "AHV7wcRZd7DS",
        "outputId": "54e747cb-7178-456c-dad6-74285a03c391"
      },
      "execution_count": null,
      "outputs": [
        {
          "output_type": "execute_result",
          "data": {
            "text/plain": [
              "5.8"
            ]
          },
          "metadata": {},
          "execution_count": 93
        }
      ]
    },
    {
      "cell_type": "markdown",
      "source": [
        "#### Задание 8\n",
        "\n",
        "Напишите блок кода, в котором после каждой гласной буквы вставляется слог \"бу\". Например, _домик_ --> _добумибук_.\n",
        "\n",
        "Указание 1: по элементам строки можно итерировать так же, как и по списку.\n",
        "\n",
        "Указание 2: оператор _in_ умеет проверять, входит ли символ в строку или входит ли элемент в список."
      ],
      "metadata": {
        "id": "AFGjZXGGfQN0"
      }
    },
    {
      "cell_type": "code",
      "source": [
        "my_word = 'домик'\n",
        "\n",
        "new_word = ''\n",
        "\n",
        "vowels = 'аоэиыуяеёю'\n",
        "\n",
        "for letter in my_word:\n",
        "\n",
        "  if letter in vowels:\n",
        "    new_word += letter\n",
        "    new_word += 'бу'\n",
        "  else:\n",
        "    new_word += letter\n",
        "\n",
        "new_word"
      ],
      "metadata": {
        "id": "gwea8gUkhXfT",
        "colab": {
          "base_uri": "https://localhost:8080/",
          "height": 36
        },
        "outputId": "040aa4a1-3e7c-4db5-cd0b-c4170d472277"
      },
      "execution_count": null,
      "outputs": [
        {
          "output_type": "execute_result",
          "data": {
            "text/plain": [
              "'добумибук'"
            ],
            "application/vnd.google.colaboratory.intrinsic+json": {
              "type": "string"
            }
          },
          "metadata": {},
          "execution_count": 101
        }
      ]
    },
    {
      "cell_type": "markdown",
      "source": [
        "Генераторы списков — сокращённая версия для записи циклов\n",
        "\n",
        "\\[_то что попадёт в новый список_ for _переменная_ in _старый список_ if _опциональное условие_ \\]\n"
      ],
      "metadata": {
        "id": "Yd0i9JNnr3A_"
      }
    },
    {
      "cell_type": "code",
      "source": [
        "split_list = [letter for letter in my_word]\n",
        "split_list"
      ],
      "metadata": {
        "colab": {
          "base_uri": "https://localhost:8080/"
        },
        "id": "YyJZic28sOgm",
        "outputId": "8d5e1001-1c5a-4e89-dcf2-ebedf1673198"
      },
      "execution_count": null,
      "outputs": [
        {
          "output_type": "execute_result",
          "data": {
            "text/plain": [
              "['д', 'о', 'м', 'и', 'к']"
            ]
          },
          "metadata": {},
          "execution_count": 109
        }
      ]
    },
    {
      "cell_type": "code",
      "source": [
        "other_split_list = []\n",
        "\n",
        "for letter in 'слово':\n",
        "  other_split_list.append(letter)\n",
        "\n",
        "other_split_list"
      ],
      "metadata": {
        "colab": {
          "base_uri": "https://localhost:8080/"
        },
        "id": "wJEjoCuns1JT",
        "outputId": "6a905fe3-e696-467b-dbb3-88a3e090d07a"
      },
      "execution_count": null,
      "outputs": [
        {
          "output_type": "execute_result",
          "data": {
            "text/plain": [
              "['с', 'л', 'о', 'в', 'о']"
            ]
          },
          "metadata": {},
          "execution_count": 32
        }
      ]
    },
    {
      "cell_type": "code",
      "source": [
        "[number + 2 for number in [1, 2, 3]]"
      ],
      "metadata": {
        "colab": {
          "base_uri": "https://localhost:8080/"
        },
        "id": "aUUxdpWYsTYO",
        "outputId": "bf791753-a2e5-4036-e6ed-1cce1c9a4b31"
      },
      "execution_count": null,
      "outputs": [
        {
          "output_type": "execute_result",
          "data": {
            "text/plain": [
              "[3, 4, 5]"
            ]
          },
          "metadata": {},
          "execution_count": 114
        }
      ]
    },
    {
      "cell_type": "code",
      "source": [
        "split_list = [letter + 'бу' for letter in my_word]\n",
        "split_list"
      ],
      "metadata": {
        "colab": {
          "base_uri": "https://localhost:8080/"
        },
        "id": "R3Cw3UReUwOd",
        "outputId": "1d93d713-01ea-4238-e62c-a6db78c3134b"
      },
      "execution_count": null,
      "outputs": [
        {
          "output_type": "execute_result",
          "data": {
            "text/plain": [
              "['дбу', 'обу', 'мбу', 'ибу', 'кбу']"
            ]
          },
          "metadata": {},
          "execution_count": 116
        }
      ]
    },
    {
      "cell_type": "code",
      "source": [
        "[letter for letter in 'слово' if letter != 'о'] #!= — это \"не равно\""
      ],
      "metadata": {
        "colab": {
          "base_uri": "https://localhost:8080/"
        },
        "id": "i1A55e3DtHt0",
        "outputId": "1015ac84-f939-4fb0-af6c-f69dd1514654"
      },
      "execution_count": null,
      "outputs": [
        {
          "output_type": "execute_result",
          "data": {
            "text/plain": [
              "['с', 'л', 'в']"
            ]
          },
          "metadata": {},
          "execution_count": 121
        }
      ]
    },
    {
      "cell_type": "markdown",
      "source": [
        "#### Задание 9\n",
        "\n",
        "Сделаем вид, что мы умеем выполнять морфологический анализ слов. Будем считать, что все слова в языке — существительные:)\n",
        "\n",
        "Сделайте блок кода, который анализирует каждое слово в предложении, приписывая к нему часть речи — существительное через нижнее подчёркивание.\n",
        "\n",
        "Используйте генератор списков."
      ],
      "metadata": {
        "id": "mmVek-Eitgvx"
      }
    },
    {
      "cell_type": "code",
      "source": [
        "#Решение задания 9\n",
        "\n",
        "sentence = 'Никто не заметит, что здесь не только существительные!'\n",
        "\n",
        "words = sentence.split()\n",
        "\n",
        "words_annotated = [word + '_NOUN' for word in words]\n",
        "\n",
        "words_annotated"
      ],
      "metadata": {
        "id": "ORfywnactOLb",
        "colab": {
          "base_uri": "https://localhost:8080/"
        },
        "outputId": "da1c88ab-d04a-451f-d10d-27a2dc56a423"
      },
      "execution_count": null,
      "outputs": [
        {
          "output_type": "execute_result",
          "data": {
            "text/plain": [
              "['Никто_NOUN',\n",
              " 'не_NOUN',\n",
              " 'заметит,_NOUN',\n",
              " 'что_NOUN',\n",
              " 'здесь_NOUN',\n",
              " 'не_NOUN',\n",
              " 'только_NOUN',\n",
              " 'существительные!_NOUN']"
            ]
          },
          "metadata": {},
          "execution_count": 122
        }
      ]
    }
  ]
}