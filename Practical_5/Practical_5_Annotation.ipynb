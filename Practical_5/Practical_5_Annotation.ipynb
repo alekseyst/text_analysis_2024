{
  "nbformat": 4,
  "nbformat_minor": 0,
  "metadata": {
    "colab": {
      "provenance": []
    },
    "kernelspec": {
      "name": "python3",
      "display_name": "Python 3"
    },
    "language_info": {
      "name": "python"
    }
  },
  "cells": [
    {
      "cell_type": "markdown",
      "source": [
        "#Морфологическая и синтаксическая разметка\n",
        "\n",
        "Для создания качественного корпуса его необходимо разметить. К счастью, в настоящее время есть готовые инструменты, которые это позволяют.\n",
        "\n",
        "[Ссылка](https://colab.research.google.com/drive/1hyCIkszZY5dHAyCArhMWfQrdcdKFm-yW?usp=sharing) на тетрадку в Google Colab."
      ],
      "metadata": {
        "id": "MfqN-TUhIFDm"
      }
    },
    {
      "cell_type": "markdown",
      "source": [
        "##Разметка\n",
        "\n",
        "В Python есть много уже готовых средств для анализа текста: nltk, pymorphy2, pymystem3, spaCy, Stanza и т. д. Разные модули лучше работают для разных языков: из перечисленных первый лучше работает для английского, второй — для русского и украинского, третий — только для русского, четвёртый и пятый содержит модели для многих языков.\n",
        "\n",
        "Мы будем использовать [Stanza](https://stanfordnlp.github.io/stanza/) как поддерживающий в настоящее время наибольшие количество языков и имеющий высокое качество разметки. Это модуль, который обладает очень широкой функциональностью: токенизация, определение частей речи, морфологическая и синтаксическая разметка, выделение именованных сущностей, анализ тональности.\n",
        "\n",
        "Как и все современные модели для обработки языка, этот модуль использует подход, основанный на машинном обучении. Он содержит готовые обученные модели для множества языков, в том числе для всех языков, с которыми работаете вы. Модуль даже позволяет дообучить собственную модель, но мы этим пользоваться не будем."
      ],
      "metadata": {
        "id": "R6oxg6TiMhMb"
      }
    },
    {
      "cell_type": "code",
      "source": [
        "#Скачиваем модуль\n",
        "!pip install stanza"
      ],
      "metadata": {
        "id": "9GC0bi67dqmN"
      },
      "execution_count": null,
      "outputs": []
    },
    {
      "cell_type": "code",
      "execution_count": 3,
      "metadata": {
        "id": "SZZiHoAac4sO"
      },
      "outputs": [],
      "source": [
        "#Устанавливаем модуль\n",
        "import stanza"
      ]
    },
    {
      "cell_type": "code",
      "source": [
        "#Скачиваем обученную для русского языка модель\n",
        "stanza.download(\"ru\")"
      ],
      "metadata": {
        "id": "8mKmkjR8PF9m"
      },
      "execution_count": null,
      "outputs": []
    },
    {
      "cell_type": "code",
      "source": [
        "#Загружаем модель\n",
        "nlp = stanza.Pipeline(lang=\"ru\", processors=\"tokenize, pos, lemma, depparse, ner\")"
      ],
      "metadata": {
        "id": "qHb-kDGJOlNy"
      },
      "execution_count": null,
      "outputs": []
    },
    {
      "cell_type": "markdown",
      "source": [
        "### Функциональность Stanza\n",
        "\n",
        "Теперь мы можем использовать загруженную модель, чтобы разбить текст на предложения, разбить предложения на слова, выполнить морфологическую и синтаксическую разметку и т. д."
      ],
      "metadata": {
        "id": "azMQ3DdvQpj6"
      }
    },
    {
      "cell_type": "code",
      "source": [
        "#Анализируем текст загруженной моделью\n",
        "\n",
        "text = '''Один человек небольшого роста сказал: \"Я согласен на все, только бы быть капельку повыше\". Только он это сказал, как смотрит — перед ним волшебница. А человек небольшого роста стоит и от страха ничего сказать не может.\n",
        "\n",
        "\"Ну?\" — говорит волшебница. А человек небольшого роста стоит и молчит. Волшебница исчезла. Тут человек небольшого роста начал плакать и кусать себе ногти. Сначала на руках ногти сгрыз, а потом на ногах.\n",
        "\n",
        "* * *\n",
        "\n",
        "Читатель, вдумайся в эту басню, и тебе станет не по себе.'''\n",
        "\n",
        "text_analyzed = nlp(text)"
      ],
      "metadata": {
        "id": "Gsk4F68cUme1"
      },
      "execution_count": 9,
      "outputs": []
    },
    {
      "cell_type": "code",
      "source": [
        "#Выглядит новая переменная страшно\n",
        "#Но на самом деле это новый объект особого типа, с которым можно дальше работать\n",
        "\n",
        "text_analyzed"
      ],
      "metadata": {
        "id": "AeIf0yi6WBzf"
      },
      "execution_count": null,
      "outputs": []
    },
    {
      "cell_type": "code",
      "source": [
        "#Через точку мы можем добывать результаты анализа\n",
        "\n",
        "text_analyzed.text"
      ],
      "metadata": {
        "colab": {
          "base_uri": "https://localhost:8080/",
          "height": 53
        },
        "id": "KNuWrYoRvC-D",
        "outputId": "ec5e7a29-90d6-48d8-8291-abb287073561"
      },
      "execution_count": 18,
      "outputs": [
        {
          "output_type": "execute_result",
          "data": {
            "text/plain": [
              "'Один человек небольшого роста сказал: \"Я согласен на все, только бы быть капельку повыше\". Только он это сказал, как смотрит — перед ним волшебница. А человек небольшого роста стоит и от страха ничего сказать не может.\\n\\n\"Ну?\" — говорит волшебница. А человек небольшого роста стоит и молчит. Волшебница исчезла. Тут человек небольшого роста начал плакать и кусать себе ногти. Сначала на руках ногти сгрыз, а потом на ногах.\\n\\n* * *\\n\\nЧитатель, вдумайся в эту басню, и тебе станет не по себе.'"
            ],
            "application/vnd.google.colaboratory.intrinsic+json": {
              "type": "string"
            }
          },
          "metadata": {},
          "execution_count": 18
        }
      ]
    },
    {
      "cell_type": "code",
      "source": [
        "text_analyzed.sentences[2]"
      ],
      "metadata": {
        "id": "H7BY4q91vV_K"
      },
      "execution_count": null,
      "outputs": []
    },
    {
      "cell_type": "code",
      "source": [
        "text_analyzed.sentences[2].text"
      ],
      "metadata": {
        "colab": {
          "base_uri": "https://localhost:8080/",
          "height": 36
        },
        "id": "PfDbli76vbjD",
        "outputId": "13ab15c2-736c-4cf7-83c8-6d181320470b"
      },
      "execution_count": 22,
      "outputs": [
        {
          "output_type": "execute_result",
          "data": {
            "text/plain": [
              "'А человек небольшого роста стоит и от страха ничего сказать не может.'"
            ],
            "application/vnd.google.colaboratory.intrinsic+json": {
              "type": "string"
            }
          },
          "metadata": {},
          "execution_count": 22
        }
      ]
    },
    {
      "cell_type": "code",
      "source": [
        "#Делим на предложения\n",
        "\n",
        "sentences = [sent.text.strip() for sent in text_analyzed.sentences]\n",
        "\n",
        "sentences[:3]"
      ],
      "metadata": {
        "colab": {
          "base_uri": "https://localhost:8080/"
        },
        "id": "lNWHtQrNWVpT",
        "outputId": "6c98f892-0063-45be-bc1f-c5eb4e9d9019"
      },
      "execution_count": 23,
      "outputs": [
        {
          "output_type": "execute_result",
          "data": {
            "text/plain": [
              "['Один человек небольшого роста сказал: \"Я согласен на все, только бы быть капельку повыше\".',\n",
              " 'Только он это сказал, как смотрит — перед ним волшебница.',\n",
              " 'А человек небольшого роста стоит и от страха ничего сказать не может.']"
            ]
          },
          "metadata": {},
          "execution_count": 23
        }
      ]
    },
    {
      "cell_type": "code",
      "source": [
        "text_analyzed.sentences[2].words[3] #Делим предложение на слова"
      ],
      "metadata": {
        "colab": {
          "base_uri": "https://localhost:8080/"
        },
        "id": "n0vyxwdYwKaI",
        "outputId": "42d6c512-4d1c-45e6-c984-30323b6c2d7c"
      },
      "execution_count": 63,
      "outputs": [
        {
          "output_type": "execute_result",
          "data": {
            "text/plain": [
              "{\n",
              "  \"id\": 4,\n",
              "  \"text\": \"роста\",\n",
              "  \"lemma\": \"рост\",\n",
              "  \"upos\": \"NOUN\",\n",
              "  \"feats\": \"Animacy=Inan|Case=Gen|Gender=Masc|Number=Sing\",\n",
              "  \"head\": 2,\n",
              "  \"deprel\": \"nmod\",\n",
              "  \"start_char\": 170,\n",
              "  \"end_char\": 175\n",
              "}"
            ]
          },
          "metadata": {},
          "execution_count": 63
        }
      ]
    },
    {
      "cell_type": "code",
      "source": [
        "our_word = text_analyzed.sentences[2].words[3]"
      ],
      "metadata": {
        "id": "3KkEurHwxI1G"
      },
      "execution_count": 62,
      "outputs": []
    },
    {
      "cell_type": "code",
      "source": [
        "our_word.text #Токен, слово в своей форме"
      ],
      "metadata": {
        "colab": {
          "base_uri": "https://localhost:8080/",
          "height": 36
        },
        "id": "h9XjGro2wuDK",
        "outputId": "29a834ff-b899-4673-95f8-d135285f7a60"
      },
      "execution_count": 44,
      "outputs": [
        {
          "output_type": "execute_result",
          "data": {
            "text/plain": [
              "'роста'"
            ],
            "application/vnd.google.colaboratory.intrinsic+json": {
              "type": "string"
            }
          },
          "metadata": {},
          "execution_count": 44
        }
      ]
    },
    {
      "cell_type": "code",
      "source": [
        "our_word.lemma #Лемма"
      ],
      "metadata": {
        "colab": {
          "base_uri": "https://localhost:8080/",
          "height": 36
        },
        "id": "fNmWsB82wwvj",
        "outputId": "f4db1078-502a-4547-f2c8-9675138943fd"
      },
      "execution_count": 42,
      "outputs": [
        {
          "output_type": "execute_result",
          "data": {
            "text/plain": [
              "'рост'"
            ],
            "application/vnd.google.colaboratory.intrinsic+json": {
              "type": "string"
            }
          },
          "metadata": {},
          "execution_count": 42
        }
      ]
    },
    {
      "cell_type": "code",
      "source": [
        "our_word.upos #Часть речи"
      ],
      "metadata": {
        "colab": {
          "base_uri": "https://localhost:8080/",
          "height": 36
        },
        "id": "nNn32MKWxFrw",
        "outputId": "a400c4ab-8221-48bc-b7c7-c7650e0ed479"
      },
      "execution_count": 46,
      "outputs": [
        {
          "output_type": "execute_result",
          "data": {
            "text/plain": [
              "'NOUN'"
            ],
            "application/vnd.google.colaboratory.intrinsic+json": {
              "type": "string"
            }
          },
          "metadata": {},
          "execution_count": 46
        }
      ]
    },
    {
      "cell_type": "code",
      "source": [
        "our_word.feats #Морфологические характеристики"
      ],
      "metadata": {
        "colab": {
          "base_uri": "https://localhost:8080/",
          "height": 36
        },
        "id": "4Bb8C5AJxaV7",
        "outputId": "f480ed61-c1ae-4667-c01a-6e9929fd604d"
      },
      "execution_count": 49,
      "outputs": [
        {
          "output_type": "execute_result",
          "data": {
            "text/plain": [
              "'Animacy=Inan|Case=Gen|Gender=Masc|Number=Sing'"
            ],
            "application/vnd.google.colaboratory.intrinsic+json": {
              "type": "string"
            }
          },
          "metadata": {},
          "execution_count": 49
        }
      ]
    },
    {
      "cell_type": "code",
      "source": [
        "our_word.deprel #Синтаксическое отношение"
      ],
      "metadata": {
        "colab": {
          "base_uri": "https://localhost:8080/",
          "height": 36
        },
        "id": "zVNCVorcytwS",
        "outputId": "3a50b33b-908a-4b75-bdee-ba9653f976db"
      },
      "execution_count": 52,
      "outputs": [
        {
          "output_type": "execute_result",
          "data": {
            "text/plain": [
              "'nmod'"
            ],
            "application/vnd.google.colaboratory.intrinsic+json": {
              "type": "string"
            }
          },
          "metadata": {},
          "execution_count": 52
        }
      ]
    },
    {
      "cell_type": "code",
      "source": [
        "our_word.head #Позиция главного слова в предложении"
      ],
      "metadata": {
        "colab": {
          "base_uri": "https://localhost:8080/"
        },
        "id": "vsE0AH4Py__3",
        "outputId": "62ea9df7-ca67-4f95-af17-04f1d2665e50"
      },
      "execution_count": 54,
      "outputs": [
        {
          "output_type": "execute_result",
          "data": {
            "text/plain": [
              "2"
            ]
          },
          "metadata": {},
          "execution_count": 54
        }
      ]
    },
    {
      "cell_type": "code",
      "source": [
        "# Выделение именованных сущностей\n",
        "\n",
        "sentence_ner = 'Лондон это столица Рима, Рим это столица Парижа, — сказала Алиса.'\n",
        "\n",
        "sentence_ner_analyzed = nlp(sentence_ner)\n",
        "\n",
        "for named_entity in sentence_ner_analyzed.ents:\n",
        "    print(named_entity.text, ':', named_entity.type)"
      ],
      "metadata": {
        "colab": {
          "base_uri": "https://localhost:8080/"
        },
        "id": "F936yKPM1uU5",
        "outputId": "18fa3ca5-9d32-45fc-de0b-9296262cc474"
      },
      "execution_count": 66,
      "outputs": [
        {
          "output_type": "stream",
          "name": "stdout",
          "text": [
            "Лондон : LOC\n",
            "Рима : LOC\n",
            "Рим : LOC\n",
            "Парижа : LOC\n",
            "Алиса : PER\n"
          ]
        }
      ]
    },
    {
      "cell_type": "markdown",
      "source": [
        "#### Задание 1.1\n",
        "\n",
        "Выведите часть речи, морфологические характеристики и синтаксическое отношение для слова _смотрит_ из текста выше."
      ],
      "metadata": {
        "id": "5mGBJXwezsKG"
      }
    },
    {
      "cell_type": "code",
      "source": [
        "# Решение задания 1.1\n",
        "\n"
      ],
      "metadata": {
        "id": "3vbnIjmFz-uD"
      },
      "execution_count": null,
      "outputs": []
    },
    {
      "cell_type": "markdown",
      "source": [
        "#### Задание 1.2\n",
        "\n",
        "Напишите блок кода, который находит вершину для нашего слова (которое our_word) и выводит её в той форме, в которомй она встречается в тексте. Это можно сделать в одну строку, но может быть удобнее в несколько."
      ],
      "metadata": {
        "id": "b7olyDJ8zS9A"
      }
    },
    {
      "cell_type": "code",
      "source": [
        "# Решение задания 1.2\n",
        "\n"
      ],
      "metadata": {
        "id": "rgzUT6Hpzo5L"
      },
      "execution_count": null,
      "outputs": []
    },
    {
      "cell_type": "code",
      "source": [
        "#Работая с несколькими словами, мы можем создавать списки\n",
        "\n",
        "words = [word.text for word in text_analyzed.iter_words()]\n",
        "\n",
        "words[:15]"
      ],
      "metadata": {
        "colab": {
          "base_uri": "https://localhost:8080/"
        },
        "id": "Mcd0ekgkXIaF",
        "outputId": "60cdad04-4859-4fa9-c110-a729aa70096d"
      },
      "execution_count": 59,
      "outputs": [
        {
          "output_type": "execute_result",
          "data": {
            "text/plain": [
              "['Один',\n",
              " 'человек',\n",
              " 'небольшого',\n",
              " 'роста',\n",
              " 'сказал',\n",
              " ':',\n",
              " '\"',\n",
              " 'Я',\n",
              " 'согласен',\n",
              " 'на',\n",
              " 'все',\n",
              " ',',\n",
              " 'только',\n",
              " 'бы',\n",
              " 'быть']"
            ]
          },
          "metadata": {},
          "execution_count": 59
        }
      ]
    },
    {
      "cell_type": "code",
      "source": [
        "#Работая с несколькими словами, и для характеристик тоже\n",
        "\n",
        "words_pos = [word.pos for word in text_analyzed.iter_words()]\n",
        "\n",
        "words_pos[:15]"
      ],
      "metadata": {
        "colab": {
          "base_uri": "https://localhost:8080/"
        },
        "id": "cZoT3ndh1LYZ",
        "outputId": "9ac16ef2-2a6c-400f-b2fc-a84f6f5e7783"
      },
      "execution_count": 61,
      "outputs": [
        {
          "output_type": "execute_result",
          "data": {
            "text/plain": [
              "['NUM',\n",
              " 'NOUN',\n",
              " 'ADJ',\n",
              " 'NOUN',\n",
              " 'VERB',\n",
              " 'PUNCT',\n",
              " 'PUNCT',\n",
              " 'PRON',\n",
              " 'ADJ',\n",
              " 'ADP',\n",
              " 'PRON',\n",
              " 'PUNCT',\n",
              " 'CCONJ',\n",
              " 'AUX',\n",
              " 'AUX']"
            ]
          },
          "metadata": {},
          "execution_count": 61
        }
      ]
    },
    {
      "cell_type": "markdown",
      "source": [
        "Больше о разметке можно прочесть [здесь](https://spacy.io/usage/linguistic-features)."
      ],
      "metadata": {
        "id": "h28r_U-VgB9x"
      }
    },
    {
      "cell_type": "markdown",
      "source": [
        "#Задание 2\n",
        "\n",
        "Получите  морфологическую и синтаксическую разметку для первых трёх токенов из этого предложения. Выведите её в любом удобном виде."
      ],
      "metadata": {
        "id": "Ukb7aYnSgZg7"
      }
    },
    {
      "cell_type": "code",
      "source": [
        "#Решение задания 2\n",
        "\n"
      ],
      "metadata": {
        "id": "hvXVKpsAgqGS"
      },
      "execution_count": null,
      "outputs": []
    },
    {
      "cell_type": "markdown",
      "source": [
        "## Структура корпуса\n",
        "\n",
        "Перед тем как продолжать, необходимо продумать структуру корпуса. Есть мета-информация о текстах, есть разметка по словам, гипотетически может быть разметка на уровне предложений.\n",
        "\n",
        "Как следует организовать корпус?"
      ],
      "metadata": {
        "id": "-UMFE7qHL4kE"
      }
    }
  ]
}