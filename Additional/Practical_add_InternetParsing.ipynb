{
  "nbformat": 4,
  "nbformat_minor": 0,
  "metadata": {
    "colab": {
      "provenance": []
    },
    "kernelspec": {
      "name": "python3",
      "display_name": "Python 3"
    },
    "widgets": {
      "application/vnd.jupyter.widget-state+json": {
        "ee070e54dc504baea00d51a678c62eee": {
          "model_module": "@jupyter-widgets/controls",
          "model_name": "HBoxModel",
          "model_module_version": "1.5.0",
          "state": {
            "_dom_classes": [],
            "_model_module": "@jupyter-widgets/controls",
            "_model_module_version": "1.5.0",
            "_model_name": "HBoxModel",
            "_view_count": null,
            "_view_module": "@jupyter-widgets/controls",
            "_view_module_version": "1.5.0",
            "_view_name": "HBoxView",
            "box_style": "",
            "children": [
              "IPY_MODEL_4578c02dc7c64bb8a046686ed2ef036a",
              "IPY_MODEL_d7ac4baedae24e7ead2ff430e7284265",
              "IPY_MODEL_9525ed31f8e542b281789a11eacd486d"
            ],
            "layout": "IPY_MODEL_07873f54e8494e35816774bd9a0af8df"
          }
        },
        "4578c02dc7c64bb8a046686ed2ef036a": {
          "model_module": "@jupyter-widgets/controls",
          "model_name": "HTMLModel",
          "model_module_version": "1.5.0",
          "state": {
            "_dom_classes": [],
            "_model_module": "@jupyter-widgets/controls",
            "_model_module_version": "1.5.0",
            "_model_name": "HTMLModel",
            "_view_count": null,
            "_view_module": "@jupyter-widgets/controls",
            "_view_module_version": "1.5.0",
            "_view_name": "HTMLView",
            "description": "",
            "description_tooltip": null,
            "layout": "IPY_MODEL_ce5ae80e65ce465c9d9633eee8bb7d7c",
            "placeholder": "​",
            "style": "IPY_MODEL_cab30299aef24351b588107eb5a7c103",
            "value": "100%"
          }
        },
        "d7ac4baedae24e7ead2ff430e7284265": {
          "model_module": "@jupyter-widgets/controls",
          "model_name": "FloatProgressModel",
          "model_module_version": "1.5.0",
          "state": {
            "_dom_classes": [],
            "_model_module": "@jupyter-widgets/controls",
            "_model_module_version": "1.5.0",
            "_model_name": "FloatProgressModel",
            "_view_count": null,
            "_view_module": "@jupyter-widgets/controls",
            "_view_module_version": "1.5.0",
            "_view_name": "ProgressView",
            "bar_style": "success",
            "description": "",
            "description_tooltip": null,
            "layout": "IPY_MODEL_f6ea76242c924ae5ab2a598a4c9ef7eb",
            "max": 100,
            "min": 0,
            "orientation": "horizontal",
            "style": "IPY_MODEL_b039b0231c134693b5b5b6b9d8699870",
            "value": 100
          }
        },
        "9525ed31f8e542b281789a11eacd486d": {
          "model_module": "@jupyter-widgets/controls",
          "model_name": "HTMLModel",
          "model_module_version": "1.5.0",
          "state": {
            "_dom_classes": [],
            "_model_module": "@jupyter-widgets/controls",
            "_model_module_version": "1.5.0",
            "_model_name": "HTMLModel",
            "_view_count": null,
            "_view_module": "@jupyter-widgets/controls",
            "_view_module_version": "1.5.0",
            "_view_name": "HTMLView",
            "description": "",
            "description_tooltip": null,
            "layout": "IPY_MODEL_7337cb7b1e304d73821b56a2d31f49c8",
            "placeholder": "​",
            "style": "IPY_MODEL_d92295d15fe24934aa59e46873c65b16",
            "value": " 100/100 [09:40&lt;00:00,  5.71s/it]"
          }
        },
        "07873f54e8494e35816774bd9a0af8df": {
          "model_module": "@jupyter-widgets/base",
          "model_name": "LayoutModel",
          "model_module_version": "1.2.0",
          "state": {
            "_model_module": "@jupyter-widgets/base",
            "_model_module_version": "1.2.0",
            "_model_name": "LayoutModel",
            "_view_count": null,
            "_view_module": "@jupyter-widgets/base",
            "_view_module_version": "1.2.0",
            "_view_name": "LayoutView",
            "align_content": null,
            "align_items": null,
            "align_self": null,
            "border": null,
            "bottom": null,
            "display": null,
            "flex": null,
            "flex_flow": null,
            "grid_area": null,
            "grid_auto_columns": null,
            "grid_auto_flow": null,
            "grid_auto_rows": null,
            "grid_column": null,
            "grid_gap": null,
            "grid_row": null,
            "grid_template_areas": null,
            "grid_template_columns": null,
            "grid_template_rows": null,
            "height": null,
            "justify_content": null,
            "justify_items": null,
            "left": null,
            "margin": null,
            "max_height": null,
            "max_width": null,
            "min_height": null,
            "min_width": null,
            "object_fit": null,
            "object_position": null,
            "order": null,
            "overflow": null,
            "overflow_x": null,
            "overflow_y": null,
            "padding": null,
            "right": null,
            "top": null,
            "visibility": null,
            "width": null
          }
        },
        "ce5ae80e65ce465c9d9633eee8bb7d7c": {
          "model_module": "@jupyter-widgets/base",
          "model_name": "LayoutModel",
          "model_module_version": "1.2.0",
          "state": {
            "_model_module": "@jupyter-widgets/base",
            "_model_module_version": "1.2.0",
            "_model_name": "LayoutModel",
            "_view_count": null,
            "_view_module": "@jupyter-widgets/base",
            "_view_module_version": "1.2.0",
            "_view_name": "LayoutView",
            "align_content": null,
            "align_items": null,
            "align_self": null,
            "border": null,
            "bottom": null,
            "display": null,
            "flex": null,
            "flex_flow": null,
            "grid_area": null,
            "grid_auto_columns": null,
            "grid_auto_flow": null,
            "grid_auto_rows": null,
            "grid_column": null,
            "grid_gap": null,
            "grid_row": null,
            "grid_template_areas": null,
            "grid_template_columns": null,
            "grid_template_rows": null,
            "height": null,
            "justify_content": null,
            "justify_items": null,
            "left": null,
            "margin": null,
            "max_height": null,
            "max_width": null,
            "min_height": null,
            "min_width": null,
            "object_fit": null,
            "object_position": null,
            "order": null,
            "overflow": null,
            "overflow_x": null,
            "overflow_y": null,
            "padding": null,
            "right": null,
            "top": null,
            "visibility": null,
            "width": null
          }
        },
        "cab30299aef24351b588107eb5a7c103": {
          "model_module": "@jupyter-widgets/controls",
          "model_name": "DescriptionStyleModel",
          "model_module_version": "1.5.0",
          "state": {
            "_model_module": "@jupyter-widgets/controls",
            "_model_module_version": "1.5.0",
            "_model_name": "DescriptionStyleModel",
            "_view_count": null,
            "_view_module": "@jupyter-widgets/base",
            "_view_module_version": "1.2.0",
            "_view_name": "StyleView",
            "description_width": ""
          }
        },
        "f6ea76242c924ae5ab2a598a4c9ef7eb": {
          "model_module": "@jupyter-widgets/base",
          "model_name": "LayoutModel",
          "model_module_version": "1.2.0",
          "state": {
            "_model_module": "@jupyter-widgets/base",
            "_model_module_version": "1.2.0",
            "_model_name": "LayoutModel",
            "_view_count": null,
            "_view_module": "@jupyter-widgets/base",
            "_view_module_version": "1.2.0",
            "_view_name": "LayoutView",
            "align_content": null,
            "align_items": null,
            "align_self": null,
            "border": null,
            "bottom": null,
            "display": null,
            "flex": null,
            "flex_flow": null,
            "grid_area": null,
            "grid_auto_columns": null,
            "grid_auto_flow": null,
            "grid_auto_rows": null,
            "grid_column": null,
            "grid_gap": null,
            "grid_row": null,
            "grid_template_areas": null,
            "grid_template_columns": null,
            "grid_template_rows": null,
            "height": null,
            "justify_content": null,
            "justify_items": null,
            "left": null,
            "margin": null,
            "max_height": null,
            "max_width": null,
            "min_height": null,
            "min_width": null,
            "object_fit": null,
            "object_position": null,
            "order": null,
            "overflow": null,
            "overflow_x": null,
            "overflow_y": null,
            "padding": null,
            "right": null,
            "top": null,
            "visibility": null,
            "width": null
          }
        },
        "b039b0231c134693b5b5b6b9d8699870": {
          "model_module": "@jupyter-widgets/controls",
          "model_name": "ProgressStyleModel",
          "model_module_version": "1.5.0",
          "state": {
            "_model_module": "@jupyter-widgets/controls",
            "_model_module_version": "1.5.0",
            "_model_name": "ProgressStyleModel",
            "_view_count": null,
            "_view_module": "@jupyter-widgets/base",
            "_view_module_version": "1.2.0",
            "_view_name": "StyleView",
            "bar_color": null,
            "description_width": ""
          }
        },
        "7337cb7b1e304d73821b56a2d31f49c8": {
          "model_module": "@jupyter-widgets/base",
          "model_name": "LayoutModel",
          "model_module_version": "1.2.0",
          "state": {
            "_model_module": "@jupyter-widgets/base",
            "_model_module_version": "1.2.0",
            "_model_name": "LayoutModel",
            "_view_count": null,
            "_view_module": "@jupyter-widgets/base",
            "_view_module_version": "1.2.0",
            "_view_name": "LayoutView",
            "align_content": null,
            "align_items": null,
            "align_self": null,
            "border": null,
            "bottom": null,
            "display": null,
            "flex": null,
            "flex_flow": null,
            "grid_area": null,
            "grid_auto_columns": null,
            "grid_auto_flow": null,
            "grid_auto_rows": null,
            "grid_column": null,
            "grid_gap": null,
            "grid_row": null,
            "grid_template_areas": null,
            "grid_template_columns": null,
            "grid_template_rows": null,
            "height": null,
            "justify_content": null,
            "justify_items": null,
            "left": null,
            "margin": null,
            "max_height": null,
            "max_width": null,
            "min_height": null,
            "min_width": null,
            "object_fit": null,
            "object_position": null,
            "order": null,
            "overflow": null,
            "overflow_x": null,
            "overflow_y": null,
            "padding": null,
            "right": null,
            "top": null,
            "visibility": null,
            "width": null
          }
        },
        "d92295d15fe24934aa59e46873c65b16": {
          "model_module": "@jupyter-widgets/controls",
          "model_name": "DescriptionStyleModel",
          "model_module_version": "1.5.0",
          "state": {
            "_model_module": "@jupyter-widgets/controls",
            "_model_module_version": "1.5.0",
            "_model_name": "DescriptionStyleModel",
            "_view_count": null,
            "_view_module": "@jupyter-widgets/base",
            "_view_module_version": "1.2.0",
            "_view_name": "StyleView",
            "description_width": ""
          }
        }
      }
    }
  },
  "cells": [
    {
      "cell_type": "markdown",
      "metadata": {
        "id": "FvH_fpTUcG6m"
      },
      "source": [
        "# Скачивание новостного корпуса\n",
        "\n",
        "Этот набор упражнений должен помочь вам научиться:\n",
        "\n",
        "- выгружать интересующие вас тексты из Интернета\n",
        "- сохранять их в формате, удобном для обработки\n",
        "- выполнять их разметку\n",
        "\n",
        "[Ссылка](https://colab.research.google.com/drive/1M5a8UUVcqW_wjNTknl2hjsHYsNVJEnPn?usp=sharing) на тетрадку в Google Colab\n",
        "\n",
        "Возможно, если вы решите на практике применить то же самое к своему материалу, эта тетрадка не настолько подробной, как хотелось бы. В этом случае можно и нужно обратиться с вопросами в личные сообщения."
      ]
    },
    {
      "cell_type": "code",
      "metadata": {
        "id": "ujahIKqc0pTQ",
        "colab": {
          "base_uri": "https://localhost:8080/"
        },
        "outputId": "4b99ce6a-bc15-4817-cca1-9b7fae9a1f4f"
      },
      "source": [
        "#Скачиваем пакеты, которых нет в стандартной библиотеке Python\n",
        "!pip install fake-useragent\n",
        "!pip install tqdm"
      ],
      "execution_count": 1,
      "outputs": [
        {
          "output_type": "stream",
          "name": "stdout",
          "text": [
            "Collecting fake-useragent\n",
            "  Downloading fake_useragent-1.4.0-py3-none-any.whl (15 kB)\n",
            "Installing collected packages: fake-useragent\n",
            "Successfully installed fake-useragent-1.4.0\n",
            "Requirement already satisfied: tqdm in /usr/local/lib/python3.10/dist-packages (4.66.2)\n"
          ]
        }
      ]
    },
    {
      "cell_type": "markdown",
      "metadata": {
        "id": "ycgt059QcOh_"
      },
      "source": [
        "Импортируем нужные для работы модули"
      ]
    },
    {
      "cell_type": "code",
      "metadata": {
        "id": "JBvCvA8tk_5c"
      },
      "source": [
        "#Собственно выкачивание файлов из Интернета\n",
        "import requests\n",
        "\n",
        "#Работа с таблицами — понадобится, чтобы хранить наш корпус\n",
        "import pandas as pd\n",
        "\n",
        "#Выполнение быстрых математических вычислений — пригодится, потому что иначе\n",
        "#корпус с большим количеством текстов может долго обрабатываться\n",
        "import numpy as np\n",
        "\n",
        "# Модуль для работы с HTML-файлами\n",
        "from bs4 import BeautifulSoup\n",
        "\n",
        "# Модуль для работы с регулярными выражениями\n",
        "import re\n",
        "\n",
        "#Функция, который измеряет время исполнения фрагмента программы — без неё\n",
        "#в принципе тоже всё будет работать\n",
        "from tqdm.auto import tqdm\n",
        "\n",
        "#Поможет замаскироваться под обычного пользователя в Интернете\n",
        "from fake_useragent import UserAgent\n",
        "\n",
        "#Переменные, нужные, чтобы маскироваться под обычного пользователя Интернета\n",
        "ua = UserAgent()\n",
        "headers = {'User-Agent': ua.random}"
      ],
      "execution_count": 4,
      "outputs": []
    },
    {
      "cell_type": "markdown",
      "metadata": {
        "id": "JATcSVCBcR4-"
      },
      "source": [
        "## Сбор текстов в Интернете\n",
        "\n",
        "Python позволяет достаточно простым образом скачивать страницы из интернета по ссылке. Например, ниже скачивается и записывается в переменную файл с предыдущего занятия."
      ]
    },
    {
      "cell_type": "code",
      "source": [
        "akarenina_link = 'https://raw.githubusercontent.com/alekseyst/text_analysis_2023/main/Seminar_3/karenina.txt'\n",
        "akarenina = requests.get(akarenina_link, headers=headers)\n",
        "akarenina"
      ],
      "metadata": {
        "colab": {
          "base_uri": "https://localhost:8080/"
        },
        "id": "VGSMO3xJUD13",
        "outputId": "3089d583-39a7-4003-de03-f2bd6bce8fe9"
      },
      "execution_count": 5,
      "outputs": [
        {
          "output_type": "execute_result",
          "data": {
            "text/plain": [
              "<Response [200]>"
            ]
          },
          "metadata": {},
          "execution_count": 5
        }
      ]
    },
    {
      "cell_type": "code",
      "source": [
        "#Как мы видим, результат запроса представляет собой какой-то объект.\n",
        "#Чтобы извлечь его содержимое, нужно обратиться к атрибуту text.\n",
        "\n",
        "akarenina.text[:400]"
      ],
      "metadata": {
        "colab": {
          "base_uri": "https://localhost:8080/",
          "height": 70
        },
        "id": "iWYCgfPGUz5x",
        "outputId": "fac8259a-68e6-487b-d042-97d43f340437"
      },
      "execution_count": 6,
      "outputs": [
        {
          "output_type": "execute_result",
          "data": {
            "text/plain": [
              "'\\r\\n Л.Н. Толстой. Анна Каренина \\r\\n\\r\\n Роман в восьми частях \\r\\n\\r\\n\\t Мне отмщение, и Аз воздам  \\r\\n\\t \\r\\n\\r\\n Часть первая \\r\\n\\r\\n I \\r\\n\\r\\n Все счастливые семьи похожи друг на друга, каждая несчастливая семья несчастлива по-своему. \\r\\n Все смешалось в доме Облонских. Жена узнала, что муж был в связи с бывшею в их доме француженкою-гувернанткой, и объявила мужу, что не может жить с ним в одном доме. Положение это '"
            ],
            "application/vnd.google.colaboratory.intrinsic+json": {
              "type": "string"
            }
          },
          "metadata": {},
          "execution_count": 6
        }
      ]
    },
    {
      "cell_type": "markdown",
      "source": [
        "##HTML\n",
        "\n",
        "Если мы, однако, имеем дело не с txt-файлами, выложенными в Интернет, а с обычными страницами, приходится иметь дело с HTML."
      ],
      "metadata": {
        "id": "tTgsFdZkVqWW"
      }
    },
    {
      "cell_type": "code",
      "source": [
        "#HTML-страница новости\n",
        "\n",
        "news_cher_link = \"https://cher-is.com/izvestnaya-nejroset-sostavila-obrazy-cherepovtsa-i-vologdy/\"\n",
        "html_cher_request_result = requests.get(news_cher_link, headers=headers)\n",
        "html_cher = html_cher_request_result.text\n",
        "html_cher[:800]"
      ],
      "metadata": {
        "colab": {
          "base_uri": "https://localhost:8080/",
          "height": 105
        },
        "id": "wk8iIJKnQb7c",
        "outputId": "6465f3a5-5fae-46a2-e2b1-83f1411db905"
      },
      "execution_count": 7,
      "outputs": [
        {
          "output_type": "execute_result",
          "data": {
            "text/plain": [
              "'<!DOCTYPE html>\\n<html lang=\"ru-RU\" itemscope itemtype=\"http://schema.org/WebSite\" prefix=\"og: http://ogp.me/ns#\">\\n<head> <a href=\"https://metrika.yandex.ru/stat/?id=52125751&amp;from=informer\" target=\"_blank\" rel=\"nofollow\"><img src=\"https://informer.yandex.ru/informer/52125751/3_1_FFFFFFFF_EFEFEFFF_0_pageviews\" style=\"width:88px; height:31px; border:0;\" alt=\"Яндекс.Метрика\" title=\"Яндекс.Метрика: данные за сегодня (просмотры, визиты и уникальные посетители)\" class=\"ym-advanced-informer\" data-cid=\"52125751\" data-lang=\"ru\" /></a>   <script type=\"text/javascript\"> (function(m,e,t,r,i,k,a){m[i]=m[i]||function(){(m[i].a=m[i].a||[]).push(arguments)}; m[i].l=1*new Date();k=e.createElement(t),a=e.getElementsByTagName(t)[0],k.async=1,k.src=r,a.parentNode.insertBefore(k,a)}) (window, document, \"scr'"
            ],
            "application/vnd.google.colaboratory.intrinsic+json": {
              "type": "string"
            }
          },
          "metadata": {},
          "execution_count": 7
        }
      ]
    },
    {
      "cell_type": "markdown",
      "source": [
        "Конечно, страшно, но не очень.\n",
        "\n",
        "Если хочется прямо разобраться с HTML, вот, например, [ссылка](https://www.w3schools.com/html/html_intro.asp). А так нам важно знать, что всякие элементы располагаются в нутри тегов, и выглядит это как-то так (это тэг \\<p\\>, который используется для разбивки страницы на абзацы — paragraph):\n",
        "\n",
        "\\<p\\>This is a paragraph.\\</p\\>\n",
        "\n",
        "Обычно достаточно уметь найти, в каком тэге находится нужная информация, и извлечь её. Для поиска нужно всего лишь нажать на то, что вы хотите извлечь со страницы правой клавишей — Inspect, и после этого вы попадёте в удивительный мир HTML. Но! Вас переведут ровно к тому элементу, который вы ткнули. После этого, поводив по экрану, на котором подсвечиваются блоки, соответствующие тэгам, можно наиболее точно найти то, что вас интересует.\n",
        "\n",
        "Новость выкачанной нами страницы, включая заголовок и картинку, находится в тэге \\<div class=\"blog-lg-box\"\\>Содержимое\\</div\\>.\n",
        "\n",
        "Для извлечения можно использовать библиотеку BeautifulSoup, которую мы уже импортировали."
      ],
      "metadata": {
        "id": "RQkP_t2fOIRJ"
      }
    },
    {
      "cell_type": "code",
      "source": [
        "#Просим модуль проанализировать наш файл\n",
        "html_cher_soup = BeautifulSoup(html_cher, 'html.parser')\n",
        "\n",
        "#Ищем\n",
        "body_cher_soup = html_cher_soup.find(\"div\", class_=\"media-body\")\n",
        "\n",
        "#Тэг — первая переменная, класс — вторая\n",
        "#Если хотите найти несколько тэгов с одинаковыми классами, используйте find_all\n",
        "#Они будут выданы в виде списка объектов BeautifulSoup — из каждого придётся\n",
        "#извлекать текст\n",
        "\n",
        "body_cher_soup"
      ],
      "metadata": {
        "colab": {
          "base_uri": "https://localhost:8080/"
        },
        "id": "TcjBTNZKdqQQ",
        "outputId": "911dfb52-6a6e-4f01-d13a-518f3a37fb36"
      },
      "execution_count": 8,
      "outputs": [
        {
          "output_type": "execute_result",
          "data": {
            "text/plain": [
              "<div class=\"media-body\">\n",
              "<div class=\"blog-lg-box\">\n",
              "<a class=\"img-responsive\" href=\"https://cher-is.com/izvestnaya-nejroset-sostavila-obrazy-cherepovtsa-i-vologdy/\" title=\"Известная нейросеть составила образы Череповца и Вологды\">\n",
              "<img alt=\"\" class=\"img-responsive wp-post-image\" height=\"408\" loading=\"lazy\" sizes=\"(max-width: 264px) 100vw, 264px\" src=\"https://cher-is.com/wp-content/uploads/2023/02/cherepovets.png\" srcset=\"https://cher-is.com/wp-content/uploads/2023/02/cherepovets.png 264w, https://cher-is.com/wp-content/uploads/2023/02/cherepovets-194x300.png 194w\" width=\"264\"/>\n",
              "</a></div>\n",
              "<div class=\"blog-post-lg\">\n",
              "<a href=\"https://cher-is.com/author/admin/\"><img alt=\"\" class=\"img-responsive img-circle avatar-40 photo\" height=\"40\" loading=\"lazy\" src=\"https://secure.gravatar.com/avatar/12d14aad72f86a5c2271b4922c91b55f?s=40&amp;d=mm&amp;r=g\" srcset=\"https://secure.gravatar.com/avatar/12d14aad72f86a5c2271b4922c91b55f?s=80&amp;d=mm&amp;r=g 2x\" width=\"40\"/></a>\n",
              "Автор:<a href=\"https://cher-is.com/author/admin/\">ЧИ</a>\n",
              "<div class=\"blog-tags-lg\"><i class=\"fa fa-tags\"></i><a href=\"https://cher-is.com/tag/midjourney/\" rel=\"tag\">Midjourney</a>, <a href=\"https://cher-is.com/tag/nejroset/\" rel=\"tag\">нейросеть</a>, <a href=\"https://cher-is.com/tag/cherepovets/\" rel=\"tag\">Череповец</a></div>\n",
              "</div>\n",
              "<h3><a class=\"entry-title\" href=\"https://cher-is.com/izvestnaya-nejroset-sostavila-obrazy-cherepovtsa-i-vologdy/\">Известная нейросеть составила образы Череповца и Вологды</a></h3>\n",
              "<p>Нейросеть Midjourney изобразила города России в образах, и получились герои для мрачных сказок.</p>\n",
              "<p>На этот раз автор телеграм-канала «Нейросеть видит» сформировал запрос в Midjourney так, чтобы нейросеть показала российские города в человеческих обличьях. Например, две столицы, Москва и Санкт-Петербург, выглядят как модная пара. Девушка — в стильном кокошнике, а парень с уложенными бородой и усами.</p>\n",
              "<p>Череповец изображён в виде монаха, а Вологда — знатной женщины.</p>\n",
              "<p> </p>\n",
              "</div>"
            ]
          },
          "metadata": {},
          "execution_count": 8
        }
      ]
    },
    {
      "cell_type": "markdown",
      "source": [
        "Уже похоже на новость! Если теперь удалить все оставшиеся тэги, которые нас явно не интересуют, можно получить собственно текст."
      ],
      "metadata": {
        "id": "2F14mcfVlpjn"
      }
    },
    {
      "cell_type": "code",
      "source": [
        "cher_news = re.sub('<[^<]+?>', '', body_cher_soup.text).strip()\n",
        "\n",
        "#Как это работает? Регулярное выражение заменяет все (практически все) тэги на\n",
        "#пустую строку. Метод .strip() удаляет лишние переносы строк и подобное по краям\n",
        "#новости\n",
        "#Осторожно! Если вы занимаетесь чем-то серьёзным и работаете с потенциально\n",
        "#опасными сайтами, удалять тэги следует другим способом.\n",
        "\n",
        "cher_news"
      ],
      "metadata": {
        "colab": {
          "base_uri": "https://localhost:8080/",
          "height": 88
        },
        "id": "monf084FmEit",
        "outputId": "44a3f2dd-7245-4eaa-aa3c-72b4ba06f1f1"
      },
      "execution_count": 9,
      "outputs": [
        {
          "output_type": "execute_result",
          "data": {
            "text/plain": [
              "'Автор:ЧИ\\nMidjourney, нейросеть, Череповец\\n\\nИзвестная нейросеть составила образы Череповца и Вологды\\nНейросеть Midjourney изобразила города России в образах, и получились герои для мрачных сказок.\\nНа этот раз автор телеграм-канала «Нейросеть видит» сформировал запрос в Midjourney так, чтобы нейросеть показала российские города в человеческих обличьях. Например, две столицы, Москва и Санкт-Петербург, выглядят как модная пара. Девушка — в стильном кокошнике, а парень с уложенными бородой и усами.\\nЧереповец изображён в виде монаха, а Вологда — знатной женщины.'"
            ],
            "application/vnd.google.colaboratory.intrinsic+json": {
              "type": "string"
            }
          },
          "metadata": {},
          "execution_count": 9
        }
      ]
    },
    {
      "cell_type": "markdown",
      "source": [
        "Чтобы избавиться от автора, названия картинки и остального, можно их удалить в полученном выше тексте или извлекать из текста новости только то, что содержится в тэгах \\<p\\>\\</p\\>."
      ],
      "metadata": {
        "id": "XJN-gv9Yrhxa"
      }
    },
    {
      "cell_type": "code",
      "source": [
        "cher_news_no_author = ''\n",
        "\n",
        "#Приходится использовать цикл, потому что метод find_all выдаёт как результат\n",
        "#не строки, а объекты модуля Beautiful Soup\n",
        "\n",
        "for p in body_cher_soup.find_all(\"p\"):\n",
        "  cher_news_no_author += p.text.strip()\n",
        "\n",
        "cher_news_no_author"
      ],
      "metadata": {
        "colab": {
          "base_uri": "https://localhost:8080/",
          "height": 70
        },
        "id": "Y5Y_tMFmnjtM",
        "outputId": "b8103303-2c84-4c93-9857-293a6ebf2c25"
      },
      "execution_count": 10,
      "outputs": [
        {
          "output_type": "execute_result",
          "data": {
            "text/plain": [
              "'Нейросеть Midjourney изобразила города России в образах, и получились герои для мрачных сказок.На этот раз автор телеграм-канала «Нейросеть видит» сформировал запрос в Midjourney так, чтобы нейросеть показала российские города в человеческих обличьях. Например, две столицы, Москва и Санкт-Петербург, выглядят как модная пара. Девушка — в стильном кокошнике, а парень с уложенными бородой и усами.Череповец изображён в виде монаха, а Вологда — знатной женщины.'"
            ],
            "application/vnd.google.colaboratory.intrinsic+json": {
              "type": "string"
            }
          },
          "metadata": {},
          "execution_count": 10
        }
      ]
    },
    {
      "cell_type": "markdown",
      "source": [
        "## Одна новость — хорошо, но мало\n",
        "\n",
        "Чтобы сделать корпус, выкачивания одной интернет-страницы, конечно, недостаточно. Хотелось бы выкачивать сразу много текстов — или в целом из Интернета, или хотя бы с одного сайта.\n",
        "\n",
        "В целом, выкачать всю нужную информацию с сайта можно, найдя закономерность в том, как называются её страницы. Иногда это просто (например, каждая из новостей может быть просто пронумерована), иногда требуется больше изощрённости.\n",
        "\n",
        "Рассмотрим сайт Панорамы. Ссылка на новость на этом сайте содержит просто транслитерированное название (https://panorama.pub/news/osibki-pri-vvode-pin-koda), поэтому мы не имеем к ней прямого доступа и можем только откуда-то извлечь с сайта.\n",
        "\n",
        "На сайте Панорамы есть страница с новостями за весь день вот такого вида: https://panorama.pub/news/28-2-2024\n",
        "\n",
        "Мы будем идти по этим страницам и выгружать ссылки со всеми новостями за каждый день."
      ],
      "metadata": {
        "id": "ImCR1tQptkBU"
      }
    },
    {
      "cell_type": "code",
      "source": [
        "#Определяем дату\n",
        "\n",
        "from datetime import datetime, timedelta"
      ],
      "metadata": {
        "id": "L7APiWL0RPHK"
      },
      "execution_count": 11,
      "outputs": []
    },
    {
      "cell_type": "code",
      "source": [
        "#Генерируем даты за последние n=100 дней\n",
        "#\n",
        "\n",
        "dates = []\n",
        "n = 100\n",
        "\n",
        "date_list = [datetime.today() - timedelta(days=x) for x in range(n)]"
      ],
      "metadata": {
        "id": "45LM1u4WDlvD"
      },
      "execution_count": 26,
      "outputs": []
    },
    {
      "cell_type": "code",
      "source": [
        "#Преобразуем их в тот формат, который на странице новостей: день-месяц-год\n",
        "#Запись с \"f\" перед началом строки позволяет сгенерировать строку в том виде,\n",
        "#в котором нам удобно: в фигурные скобки {} можно подставить какое-то значение,\n",
        "#например, переменную\n",
        "\n",
        "date_list = [f\"{day.day}-{day.month}-{day.year}\" for day in date_list]"
      ],
      "metadata": {
        "id": "EOv2m3h0D-xI",
        "colab": {
          "base_uri": "https://localhost:8080/"
        },
        "outputId": "abfe6569-ad4b-4e0c-adf1-2e895a19bed9"
      },
      "execution_count": 27,
      "outputs": [
        {
          "output_type": "execute_result",
          "data": {
            "text/plain": [
              "['28-2-2024',\n",
              " '27-2-2024',\n",
              " '26-2-2024',\n",
              " '25-2-2024',\n",
              " '24-2-2024',\n",
              " '23-2-2024',\n",
              " '22-2-2024',\n",
              " '21-2-2024',\n",
              " '20-2-2024',\n",
              " '19-2-2024']"
            ]
          },
          "metadata": {},
          "execution_count": 27
        }
      ]
    },
    {
      "cell_type": "code",
      "source": [
        "#Вот последняя дата, на которую мы смотрим\n",
        "\n",
        "date_list[-1]"
      ],
      "metadata": {
        "colab": {
          "base_uri": "https://localhost:8080/",
          "height": 36
        },
        "id": "1vIXurmqSHRf",
        "outputId": "98f1e176-3fc4-4606-ba79-8125cb50c76d"
      },
      "execution_count": 28,
      "outputs": [
        {
          "output_type": "execute_result",
          "data": {
            "text/plain": [
              "'21-11-2023'"
            ],
            "application/vnd.google.colaboratory.intrinsic+json": {
              "type": "string"
            }
          },
          "metadata": {},
          "execution_count": 28
        }
      ]
    },
    {
      "cell_type": "code",
      "source": [
        "#В этой огромной ячейке мы, собственно, выкачиваем наши новости\n",
        "#Мы сразу складываем их в списки, которые потом будет удобно преобразовать в таблицу с метаинформацией\n",
        "all_titles = []\n",
        "all_dates = []\n",
        "all_links = []\n",
        "all_texts = []\n",
        "all_spheres = []\n",
        "\n",
        "#Начинаем цикл, каждая итерация которого обработает одну дату\n",
        "#Перечисляем даты (функция tqdm позволяет примерно оценивать время исполнения программы)\n",
        "for date in tqdm(date_list):\n",
        "\n",
        "  #Генерируем из даты ссылку\n",
        "  page = f\"https://panorama.pub/news/{date}\"\n",
        "\n",
        "  #Выкачиваем страницу\n",
        "  result = requests.get(page)\n",
        "  html = result.text\n",
        "\n",
        "  #Парсим html, чтобы извлечь из него нужный фрагмент\n",
        "  soup = BeautifulSoup(html)\n",
        "\n",
        "  #Извлекаем и преобразуем в список строк, содержащих новости\n",
        "  titles = soup.find_all('div', {'class': \"pt-2 text-xl lg:text-lg xl:text-base text-center font-semibold\"})\n",
        "  titles = [x.text.strip() for x in titles]\n",
        "\n",
        "  #Добавляем извлечённые новости к списку заголовков, которые будут потом в табличке с метаинформацией\n",
        "  all_titles.extend(titles)\n",
        "\n",
        "  #Добавляем в список и информациями о датах столько дат, сколько у нас заголовков статей\n",
        "  all_dates.extend([date] * len(titles))\n",
        "\n",
        "  #Извлекаем ссылки на конкретные новости\n",
        "  #Для этого нам приходится найти тег со ссылкой на неё. Но оказывается, что ссылка\n",
        "  #не полная — и мы добавляем в начало адрес основной страницы Панорамы\n",
        "  links = soup.find_all('a', {'class': \"flex flex-col rounded-md hover:text-secondary hover:bg-accent/[.1] mb-2\"}, href=True)\n",
        "  links = [f\"https://panorama.pub{link['href']}\" for link in links]\n",
        "\n",
        "  #Добавляем ссылки в список для таблички\n",
        "  all_links.extend(links)\n",
        "\n",
        "  #Идём по каждой из извлечённых ссылок\n",
        "  for link in links:\n",
        "\n",
        "    #Скачиваем её и парсим\n",
        "    result = requests.get(link)\n",
        "    html = result.text\n",
        "    soup = BeautifulSoup(html)\n",
        "\n",
        "    #Извлекаем тело статьи\n",
        "    page_text = soup.find('div', {'itemprop': \"articleBody\"})\n",
        "\n",
        "    #Извлекаем только то, что в абзацах\n",
        "    lines = [line.text.strip() for line in page_text.find_all('p')]\n",
        "\n",
        "    #Соединяем абзацы в одну строку, убираем неразрывные пробелы и переносы строки\n",
        "    all_texts.extend([' '.join(lines).replace('\\xa0', \" \").replace('\\n', ' ')])\n",
        "    sphere = soup.find('a', {'class': \"badge\"})\n",
        "    if sphere == None:\n",
        "      all_spheres.append(sphere)\n",
        "    else:\n",
        "      all_spheres.append(sphere.text)\n",
        "\n",
        "#Это всё выглядит сложно, но суть в том, что необходимо разобраться с тем\n",
        "#откуда получить ссылки с нужной информацией  — а затем их выкачать и\n",
        "#извлечь информацию"
      ],
      "metadata": {
        "colab": {
          "base_uri": "https://localhost:8080/",
          "height": 49,
          "referenced_widgets": [
            "ee070e54dc504baea00d51a678c62eee",
            "4578c02dc7c64bb8a046686ed2ef036a",
            "d7ac4baedae24e7ead2ff430e7284265",
            "9525ed31f8e542b281789a11eacd486d",
            "07873f54e8494e35816774bd9a0af8df",
            "ce5ae80e65ce465c9d9633eee8bb7d7c",
            "cab30299aef24351b588107eb5a7c103",
            "f6ea76242c924ae5ab2a598a4c9ef7eb",
            "b039b0231c134693b5b5b6b9d8699870",
            "7337cb7b1e304d73821b56a2d31f49c8",
            "d92295d15fe24934aa59e46873c65b16"
          ]
        },
        "id": "6HozQ_4hTXZf",
        "outputId": "f06fbb36-ed6f-4904-e80f-77c28e8a1abf"
      },
      "execution_count": 31,
      "outputs": [
        {
          "output_type": "display_data",
          "data": {
            "text/plain": [
              "  0%|          | 0/100 [00:00<?, ?it/s]"
            ],
            "application/vnd.jupyter.widget-view+json": {
              "version_major": 2,
              "version_minor": 0,
              "model_id": "ee070e54dc504baea00d51a678c62eee"
            }
          },
          "metadata": {}
        }
      ]
    },
    {
      "cell_type": "code",
      "source": [
        "#Как выглядит наш текст\n",
        "all_texts[0]"
      ],
      "metadata": {
        "colab": {
          "base_uri": "https://localhost:8080/",
          "height": 124
        },
        "id": "WXbRa80_WmLx",
        "outputId": "cce284a6-c27f-4b39-e1a7-409beb294724"
      },
      "execution_count": 32,
      "outputs": [
        {
          "output_type": "execute_result",
          "data": {
            "text/plain": [
              "'По итогам 2023 года правоохранительные органы помогли работодателям вернуть 32408 беглых испольщиков, ещё 10282 человека сейчас числятся беглецами, следует из статистических данных. Возбуждены тысячи дел о бессрочном сыске. В отдельных случаях ОМОН был вынужден прибегнуть к силе. Так, в долине Дона была обнаружена станица, организованная московскими рестораторами, сбежавшими из кофеен и лунжей на Патриарших прудах, не отработав барщину. Атаман Фёдор Чудин попытался оказать организованное сопротивление, устроив дымовую завесу из кальянного дыма и атаковав силовиков зажигательными смесями из текилы и джина. Бунт был жестко подавлен, а его зачинщики получили по 10 лет каторжных работ в столовых РЖД и Росавтодора. Как отмечается в сводке, около 55% всех сбежавших были пойманы на Дону, еще около 30% – в верховьях Яика. В полиции указывают, что беглецы планировали вступить в «организованные преступные группы и разбойничьи шайки», а также примкнуть к различным «бунтовщикам и смутьянам». Подавляющее большинство беглых испольщиков, задолжавших оброк работодателям, составляют высококвалифицированные IT-специалисты (49,8%), барбершоперы (18,2%), СММ-специалисты (13,0%), дизайнеры (10,7%), баристы (5,2%) и юристы по санкционному праву (4,0%). По словам работодателей, многие из разыскиваемых пребывают в неоплатном долгу перед сюзереном. «Пять десятков лиходеев кодили последние месяцы на наших рабочих местах для своих фриланс-заказов, уделяя хозяйским проектам не более 11 часов в день. Ни оброку, ни барщины уплочено так и не было», – возмущается представитель акционеров «Яндекса» Илимдар Абляев.'"
            ],
            "application/vnd.google.colaboratory.intrinsic+json": {
              "type": "string"
            }
          },
          "metadata": {},
          "execution_count": 32
        }
      ]
    },
    {
      "cell_type": "code",
      "source": [
        "#Убедимся, что мы ничего не сломали, и у нас столько же заголовков, сколько дат\n",
        "len(all_titles) == len(all_dates)"
      ],
      "metadata": {
        "colab": {
          "base_uri": "https://localhost:8080/"
        },
        "id": "0twbh5vuQPbO",
        "outputId": "d3a4332a-230e-4ac5-d9dd-698d648fd598"
      },
      "execution_count": 33,
      "outputs": [
        {
          "output_type": "execute_result",
          "data": {
            "text/plain": [
              "True"
            ]
          },
          "metadata": {},
          "execution_count": 33
        }
      ]
    },
    {
      "cell_type": "markdown",
      "source": [
        "## Слишком сложно?..\n",
        "\n",
        "К счастью, нередко не нужно руками с нуля писать подобные программы для выкачки сайтов.\n",
        "\n",
        "Некоторые сайты, в том числе крупные соцсети, сами умеют представлять данные в формате, удобном не для пользователя-человека, а для компьютера. Это анзывается API — см., например, [VK API](https://dev.vk.com/api/overview). Но там тоже нужно разбираться...\n",
        "\n",
        "Кроме этого, есть большое количество готовых модулей или инструментов на основе Python. Универсальная, но достаточно сложная в использовании программа, которая скачивает сайты, самостоятельно переходя по ссылкам, которые находит на их странице (это называется Crawler), — [Scrapy](https://scrapy.org/)."
      ],
      "metadata": {
        "id": "eMpsfFesCa_m"
      }
    },
    {
      "cell_type": "markdown",
      "source": [
        "## Экспорт текстов\n",
        "\n",
        "Осталось сохранить полученные тексты, чтобы не выкачивать каждый раз и иметь доступ в любой момент. Для этого оформим их в виде таблицы, которая содержит всю метаминформацию."
      ],
      "metadata": {
        "id": "IIzGSLJadMdH"
      }
    },
    {
      "cell_type": "code",
      "source": [
        "#Создаём индекс, чтобы пронумеровать каждый текст (это нам понадобится позже)\n",
        "\n",
        "index = [a for a in range(len(all_dates))]\n",
        "\n",
        "#Добавляем в особую табличку тексты. Для этого подаём функции DataFrame словарь\n",
        "#В котором на первом месте — название столбца, на втором — содержимое столбца\n",
        "#Все столбцы должны быть одинаковой длины\n",
        "corpus = pd.DataFrame({'index': index, 'date': all_dates, 'sphere': all_spheres,\n",
        "                       'title': all_titles, 'text': all_texts,\n",
        "                       'link': all_links})\n",
        "\n",
        "corpus.head()"
      ],
      "metadata": {
        "colab": {
          "base_uri": "https://localhost:8080/",
          "height": 206
        },
        "id": "yKsEELhvdKUT",
        "outputId": "4a0a5f7f-9e18-4dd5-e04b-db7ff9452869"
      },
      "execution_count": 34,
      "outputs": [
        {
          "output_type": "execute_result",
          "data": {
            "text/plain": [
              "   index       date     sphere  \\\n",
              "0      0  28-2-2024   Общество   \n",
              "1      1  28-2-2024   Общество   \n",
              "2      2  28-2-2024  Экономика   \n",
              "3      3  28-2-2024   Общество   \n",
              "4      4  28-2-2024   Политика   \n",
              "\n",
              "                                               title  \\\n",
              "0  В 2023 году правоохранительные органы вернули ...   \n",
              "1  Интернет-ресурсам придётся ретушировать фотогр...   \n",
              "2  Курировать поставки лечебных трав из Афганиста...   \n",
              "3  В Дагестане несовершеннолетнего осудили за вов...   \n",
              "4  Юрий Лоза предостерёг Макрона от ввода войск в...   \n",
              "\n",
              "                                                text  \\\n",
              "0  По итогам 2023 года правоохранительные органы ...   \n",
              "1  Постановлением министерства информации с 1 мар...   \n",
              "2  Премьер-министр России Михаил Мишустин поручил...   \n",
              "3  В Дагестане суд вынес уникальный приговор – не...   \n",
              "4  Музыкант и композитор Юрий Лоза предупредил пр...   \n",
              "\n",
              "                                                link  \n",
              "0   https://panorama.pub/news/v-2023-godu-sotrudniki  \n",
              "1  https://panorama.pub/news/internet-resursy-zas...  \n",
              "2  https://panorama.pub/news/kurirovat-postavki-l...  \n",
              "3  https://panorama.pub/news/v-dagestane-nesovers...  \n",
              "4  https://panorama.pub/news/urij-loza-predostere...  "
            ],
            "text/html": [
              "\n",
              "  <div id=\"df-7f4ae9b0-21ed-4355-93c4-abed7f9230aa\" class=\"colab-df-container\">\n",
              "    <div>\n",
              "<style scoped>\n",
              "    .dataframe tbody tr th:only-of-type {\n",
              "        vertical-align: middle;\n",
              "    }\n",
              "\n",
              "    .dataframe tbody tr th {\n",
              "        vertical-align: top;\n",
              "    }\n",
              "\n",
              "    .dataframe thead th {\n",
              "        text-align: right;\n",
              "    }\n",
              "</style>\n",
              "<table border=\"1\" class=\"dataframe\">\n",
              "  <thead>\n",
              "    <tr style=\"text-align: right;\">\n",
              "      <th></th>\n",
              "      <th>index</th>\n",
              "      <th>date</th>\n",
              "      <th>sphere</th>\n",
              "      <th>title</th>\n",
              "      <th>text</th>\n",
              "      <th>link</th>\n",
              "    </tr>\n",
              "  </thead>\n",
              "  <tbody>\n",
              "    <tr>\n",
              "      <th>0</th>\n",
              "      <td>0</td>\n",
              "      <td>28-2-2024</td>\n",
              "      <td>Общество</td>\n",
              "      <td>В 2023 году правоохранительные органы вернули ...</td>\n",
              "      <td>По итогам 2023 года правоохранительные органы ...</td>\n",
              "      <td>https://panorama.pub/news/v-2023-godu-sotrudniki</td>\n",
              "    </tr>\n",
              "    <tr>\n",
              "      <th>1</th>\n",
              "      <td>1</td>\n",
              "      <td>28-2-2024</td>\n",
              "      <td>Общество</td>\n",
              "      <td>Интернет-ресурсам придётся ретушировать фотогр...</td>\n",
              "      <td>Постановлением министерства информации с 1 мар...</td>\n",
              "      <td>https://panorama.pub/news/internet-resursy-zas...</td>\n",
              "    </tr>\n",
              "    <tr>\n",
              "      <th>2</th>\n",
              "      <td>2</td>\n",
              "      <td>28-2-2024</td>\n",
              "      <td>Экономика</td>\n",
              "      <td>Курировать поставки лечебных трав из Афганиста...</td>\n",
              "      <td>Премьер-министр России Михаил Мишустин поручил...</td>\n",
              "      <td>https://panorama.pub/news/kurirovat-postavki-l...</td>\n",
              "    </tr>\n",
              "    <tr>\n",
              "      <th>3</th>\n",
              "      <td>3</td>\n",
              "      <td>28-2-2024</td>\n",
              "      <td>Общество</td>\n",
              "      <td>В Дагестане несовершеннолетнего осудили за вов...</td>\n",
              "      <td>В Дагестане суд вынес уникальный приговор – не...</td>\n",
              "      <td>https://panorama.pub/news/v-dagestane-nesovers...</td>\n",
              "    </tr>\n",
              "    <tr>\n",
              "      <th>4</th>\n",
              "      <td>4</td>\n",
              "      <td>28-2-2024</td>\n",
              "      <td>Политика</td>\n",
              "      <td>Юрий Лоза предостерёг Макрона от ввода войск в...</td>\n",
              "      <td>Музыкант и композитор Юрий Лоза предупредил пр...</td>\n",
              "      <td>https://panorama.pub/news/urij-loza-predostere...</td>\n",
              "    </tr>\n",
              "  </tbody>\n",
              "</table>\n",
              "</div>\n",
              "    <div class=\"colab-df-buttons\">\n",
              "\n",
              "  <div class=\"colab-df-container\">\n",
              "    <button class=\"colab-df-convert\" onclick=\"convertToInteractive('df-7f4ae9b0-21ed-4355-93c4-abed7f9230aa')\"\n",
              "            title=\"Convert this dataframe to an interactive table.\"\n",
              "            style=\"display:none;\">\n",
              "\n",
              "  <svg xmlns=\"http://www.w3.org/2000/svg\" height=\"24px\" viewBox=\"0 -960 960 960\">\n",
              "    <path d=\"M120-120v-720h720v720H120Zm60-500h600v-160H180v160Zm220 220h160v-160H400v160Zm0 220h160v-160H400v160ZM180-400h160v-160H180v160Zm440 0h160v-160H620v160ZM180-180h160v-160H180v160Zm440 0h160v-160H620v160Z\"/>\n",
              "  </svg>\n",
              "    </button>\n",
              "\n",
              "  <style>\n",
              "    .colab-df-container {\n",
              "      display:flex;\n",
              "      gap: 12px;\n",
              "    }\n",
              "\n",
              "    .colab-df-convert {\n",
              "      background-color: #E8F0FE;\n",
              "      border: none;\n",
              "      border-radius: 50%;\n",
              "      cursor: pointer;\n",
              "      display: none;\n",
              "      fill: #1967D2;\n",
              "      height: 32px;\n",
              "      padding: 0 0 0 0;\n",
              "      width: 32px;\n",
              "    }\n",
              "\n",
              "    .colab-df-convert:hover {\n",
              "      background-color: #E2EBFA;\n",
              "      box-shadow: 0px 1px 2px rgba(60, 64, 67, 0.3), 0px 1px 3px 1px rgba(60, 64, 67, 0.15);\n",
              "      fill: #174EA6;\n",
              "    }\n",
              "\n",
              "    .colab-df-buttons div {\n",
              "      margin-bottom: 4px;\n",
              "    }\n",
              "\n",
              "    [theme=dark] .colab-df-convert {\n",
              "      background-color: #3B4455;\n",
              "      fill: #D2E3FC;\n",
              "    }\n",
              "\n",
              "    [theme=dark] .colab-df-convert:hover {\n",
              "      background-color: #434B5C;\n",
              "      box-shadow: 0px 1px 3px 1px rgba(0, 0, 0, 0.15);\n",
              "      filter: drop-shadow(0px 1px 2px rgba(0, 0, 0, 0.3));\n",
              "      fill: #FFFFFF;\n",
              "    }\n",
              "  </style>\n",
              "\n",
              "    <script>\n",
              "      const buttonEl =\n",
              "        document.querySelector('#df-7f4ae9b0-21ed-4355-93c4-abed7f9230aa button.colab-df-convert');\n",
              "      buttonEl.style.display =\n",
              "        google.colab.kernel.accessAllowed ? 'block' : 'none';\n",
              "\n",
              "      async function convertToInteractive(key) {\n",
              "        const element = document.querySelector('#df-7f4ae9b0-21ed-4355-93c4-abed7f9230aa');\n",
              "        const dataTable =\n",
              "          await google.colab.kernel.invokeFunction('convertToInteractive',\n",
              "                                                    [key], {});\n",
              "        if (!dataTable) return;\n",
              "\n",
              "        const docLinkHtml = 'Like what you see? Visit the ' +\n",
              "          '<a target=\"_blank\" href=https://colab.research.google.com/notebooks/data_table.ipynb>data table notebook</a>'\n",
              "          + ' to learn more about interactive tables.';\n",
              "        element.innerHTML = '';\n",
              "        dataTable['output_type'] = 'display_data';\n",
              "        await google.colab.output.renderOutput(dataTable, element);\n",
              "        const docLink = document.createElement('div');\n",
              "        docLink.innerHTML = docLinkHtml;\n",
              "        element.appendChild(docLink);\n",
              "      }\n",
              "    </script>\n",
              "  </div>\n",
              "\n",
              "\n",
              "<div id=\"df-e471df66-9544-4a52-88b6-8bbd2d085bb3\">\n",
              "  <button class=\"colab-df-quickchart\" onclick=\"quickchart('df-e471df66-9544-4a52-88b6-8bbd2d085bb3')\"\n",
              "            title=\"Suggest charts\"\n",
              "            style=\"display:none;\">\n",
              "\n",
              "<svg xmlns=\"http://www.w3.org/2000/svg\" height=\"24px\"viewBox=\"0 0 24 24\"\n",
              "     width=\"24px\">\n",
              "    <g>\n",
              "        <path d=\"M19 3H5c-1.1 0-2 .9-2 2v14c0 1.1.9 2 2 2h14c1.1 0 2-.9 2-2V5c0-1.1-.9-2-2-2zM9 17H7v-7h2v7zm4 0h-2V7h2v10zm4 0h-2v-4h2v4z\"/>\n",
              "    </g>\n",
              "</svg>\n",
              "  </button>\n",
              "\n",
              "<style>\n",
              "  .colab-df-quickchart {\n",
              "      --bg-color: #E8F0FE;\n",
              "      --fill-color: #1967D2;\n",
              "      --hover-bg-color: #E2EBFA;\n",
              "      --hover-fill-color: #174EA6;\n",
              "      --disabled-fill-color: #AAA;\n",
              "      --disabled-bg-color: #DDD;\n",
              "  }\n",
              "\n",
              "  [theme=dark] .colab-df-quickchart {\n",
              "      --bg-color: #3B4455;\n",
              "      --fill-color: #D2E3FC;\n",
              "      --hover-bg-color: #434B5C;\n",
              "      --hover-fill-color: #FFFFFF;\n",
              "      --disabled-bg-color: #3B4455;\n",
              "      --disabled-fill-color: #666;\n",
              "  }\n",
              "\n",
              "  .colab-df-quickchart {\n",
              "    background-color: var(--bg-color);\n",
              "    border: none;\n",
              "    border-radius: 50%;\n",
              "    cursor: pointer;\n",
              "    display: none;\n",
              "    fill: var(--fill-color);\n",
              "    height: 32px;\n",
              "    padding: 0;\n",
              "    width: 32px;\n",
              "  }\n",
              "\n",
              "  .colab-df-quickchart:hover {\n",
              "    background-color: var(--hover-bg-color);\n",
              "    box-shadow: 0 1px 2px rgba(60, 64, 67, 0.3), 0 1px 3px 1px rgba(60, 64, 67, 0.15);\n",
              "    fill: var(--button-hover-fill-color);\n",
              "  }\n",
              "\n",
              "  .colab-df-quickchart-complete:disabled,\n",
              "  .colab-df-quickchart-complete:disabled:hover {\n",
              "    background-color: var(--disabled-bg-color);\n",
              "    fill: var(--disabled-fill-color);\n",
              "    box-shadow: none;\n",
              "  }\n",
              "\n",
              "  .colab-df-spinner {\n",
              "    border: 2px solid var(--fill-color);\n",
              "    border-color: transparent;\n",
              "    border-bottom-color: var(--fill-color);\n",
              "    animation:\n",
              "      spin 1s steps(1) infinite;\n",
              "  }\n",
              "\n",
              "  @keyframes spin {\n",
              "    0% {\n",
              "      border-color: transparent;\n",
              "      border-bottom-color: var(--fill-color);\n",
              "      border-left-color: var(--fill-color);\n",
              "    }\n",
              "    20% {\n",
              "      border-color: transparent;\n",
              "      border-left-color: var(--fill-color);\n",
              "      border-top-color: var(--fill-color);\n",
              "    }\n",
              "    30% {\n",
              "      border-color: transparent;\n",
              "      border-left-color: var(--fill-color);\n",
              "      border-top-color: var(--fill-color);\n",
              "      border-right-color: var(--fill-color);\n",
              "    }\n",
              "    40% {\n",
              "      border-color: transparent;\n",
              "      border-right-color: var(--fill-color);\n",
              "      border-top-color: var(--fill-color);\n",
              "    }\n",
              "    60% {\n",
              "      border-color: transparent;\n",
              "      border-right-color: var(--fill-color);\n",
              "    }\n",
              "    80% {\n",
              "      border-color: transparent;\n",
              "      border-right-color: var(--fill-color);\n",
              "      border-bottom-color: var(--fill-color);\n",
              "    }\n",
              "    90% {\n",
              "      border-color: transparent;\n",
              "      border-bottom-color: var(--fill-color);\n",
              "    }\n",
              "  }\n",
              "</style>\n",
              "\n",
              "  <script>\n",
              "    async function quickchart(key) {\n",
              "      const quickchartButtonEl =\n",
              "        document.querySelector('#' + key + ' button');\n",
              "      quickchartButtonEl.disabled = true;  // To prevent multiple clicks.\n",
              "      quickchartButtonEl.classList.add('colab-df-spinner');\n",
              "      try {\n",
              "        const charts = await google.colab.kernel.invokeFunction(\n",
              "            'suggestCharts', [key], {});\n",
              "      } catch (error) {\n",
              "        console.error('Error during call to suggestCharts:', error);\n",
              "      }\n",
              "      quickchartButtonEl.classList.remove('colab-df-spinner');\n",
              "      quickchartButtonEl.classList.add('colab-df-quickchart-complete');\n",
              "    }\n",
              "    (() => {\n",
              "      let quickchartButtonEl =\n",
              "        document.querySelector('#df-e471df66-9544-4a52-88b6-8bbd2d085bb3 button');\n",
              "      quickchartButtonEl.style.display =\n",
              "        google.colab.kernel.accessAllowed ? 'block' : 'none';\n",
              "    })();\n",
              "  </script>\n",
              "</div>\n",
              "    </div>\n",
              "  </div>\n"
            ],
            "application/vnd.google.colaboratory.intrinsic+json": {
              "type": "dataframe",
              "variable_name": "corpus",
              "repr_error": "'str' object has no attribute 'empty'"
            }
          },
          "metadata": {},
          "execution_count": 34
        }
      ]
    },
    {
      "cell_type": "code",
      "source": [
        "#Экспортируем файл. В обычном Питоне он запишется на компьютер ()\n",
        "corpus.to_csv('panorama_corpus.tsv', sep = '\\t', encoding='utf-8',  index = False)"
      ],
      "metadata": {
        "id": "q0QMWliFh7SW"
      },
      "execution_count": 35,
      "outputs": []
    }
  ]
}